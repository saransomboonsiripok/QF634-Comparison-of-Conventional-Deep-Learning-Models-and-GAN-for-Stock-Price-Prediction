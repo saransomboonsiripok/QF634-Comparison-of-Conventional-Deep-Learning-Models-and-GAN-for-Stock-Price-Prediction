{
 "cells": [
  {
   "cell_type": "markdown",
   "metadata": {},
   "source": [
    "## <b>GAN model for predicting SBUX price"
   ]
  },
  {
   "cell_type": "markdown",
   "metadata": {},
   "source": [
    "### 1.) Import necessary libraries"
   ]
  },
  {
   "cell_type": "code",
   "execution_count": 18,
   "metadata": {},
   "outputs": [],
   "source": [
    "# import libraries\n",
    "import pandas as pd\n",
    "import numpy as np\n",
    "import matplotlib.pyplot as plt\n",
    "import time\n",
    "import pandas_ta\n",
    "import datetime as dt\n",
    "import re\n",
    "import pandas_datareader.data as web\n",
    "from pandas_datareader import data as pdr\n",
    "import yfinance as yf\n",
    "yf.pdr_override()\n",
    "import warnings\n",
    "warnings.filterwarnings('ignore')"
   ]
  },
  {
   "cell_type": "markdown",
   "metadata": {},
   "source": [
    "### 2.) Collecting data"
   ]
  },
  {
   "cell_type": "code",
   "execution_count": 19,
   "metadata": {},
   "outputs": [
    {
     "data": {
      "text/html": [
       "<div>\n",
       "<style scoped>\n",
       "    .dataframe tbody tr th:only-of-type {\n",
       "        vertical-align: middle;\n",
       "    }\n",
       "\n",
       "    .dataframe tbody tr th {\n",
       "        vertical-align: top;\n",
       "    }\n",
       "\n",
       "    .dataframe thead th {\n",
       "        text-align: right;\n",
       "    }\n",
       "</style>\n",
       "<table border=\"1\" class=\"dataframe\">\n",
       "  <thead>\n",
       "    <tr style=\"text-align: right;\">\n",
       "      <th></th>\n",
       "      <th>Date</th>\n",
       "      <th>Close</th>\n",
       "      <th>eps_q</th>\n",
       "      <th>book_value</th>\n",
       "      <th>de_ratio</th>\n",
       "      <th>npm</th>\n",
       "      <th>gold</th>\n",
       "      <th>crudeoil</th>\n",
       "      <th>sp500</th>\n",
       "      <th>ndx</th>\n",
       "      <th>fed</th>\n",
       "      <th>MACD</th>\n",
       "      <th>rsi</th>\n",
       "    </tr>\n",
       "  </thead>\n",
       "  <tbody>\n",
       "    <tr>\n",
       "      <th>0</th>\n",
       "      <td>2013-01-02</td>\n",
       "      <td>27.500000</td>\n",
       "      <td>0.017091</td>\n",
       "      <td>185.981818</td>\n",
       "      <td>0.022074</td>\n",
       "      <td>0.003807</td>\n",
       "      <td>163.169998</td>\n",
       "      <td>93.120003</td>\n",
       "      <td>1462.420044</td>\n",
       "      <td>2746.469971</td>\n",
       "      <td>0.17</td>\n",
       "      <td>0.000000</td>\n",
       "      <td>100.000000</td>\n",
       "    </tr>\n",
       "    <tr>\n",
       "      <th>1</th>\n",
       "      <td>2013-01-03</td>\n",
       "      <td>27.684999</td>\n",
       "      <td>0.016977</td>\n",
       "      <td>184.739032</td>\n",
       "      <td>0.021927</td>\n",
       "      <td>0.003781</td>\n",
       "      <td>161.199997</td>\n",
       "      <td>92.919998</td>\n",
       "      <td>1459.369995</td>\n",
       "      <td>2732.260010</td>\n",
       "      <td>0.17</td>\n",
       "      <td>0.004151</td>\n",
       "      <td>100.000000</td>\n",
       "    </tr>\n",
       "    <tr>\n",
       "      <th>2</th>\n",
       "      <td>2013-01-04</td>\n",
       "      <td>27.844999</td>\n",
       "      <td>0.016879</td>\n",
       "      <td>183.677505</td>\n",
       "      <td>0.021801</td>\n",
       "      <td>0.003759</td>\n",
       "      <td>160.440002</td>\n",
       "      <td>93.089996</td>\n",
       "      <td>1466.469971</td>\n",
       "      <td>2724.489990</td>\n",
       "      <td>0.16</td>\n",
       "      <td>0.010250</td>\n",
       "      <td>100.000000</td>\n",
       "    </tr>\n",
       "    <tr>\n",
       "      <th>3</th>\n",
       "      <td>2013-01-07</td>\n",
       "      <td>27.860001</td>\n",
       "      <td>0.016870</td>\n",
       "      <td>183.578603</td>\n",
       "      <td>0.021789</td>\n",
       "      <td>0.003757</td>\n",
       "      <td>159.429993</td>\n",
       "      <td>93.190002</td>\n",
       "      <td>1461.890015</td>\n",
       "      <td>2724.219971</td>\n",
       "      <td>0.16</td>\n",
       "      <td>0.013315</td>\n",
       "      <td>100.000000</td>\n",
       "    </tr>\n",
       "    <tr>\n",
       "      <th>4</th>\n",
       "      <td>2013-01-08</td>\n",
       "      <td>27.809999</td>\n",
       "      <td>0.016900</td>\n",
       "      <td>183.908669</td>\n",
       "      <td>0.021828</td>\n",
       "      <td>0.003764</td>\n",
       "      <td>160.559998</td>\n",
       "      <td>93.150002</td>\n",
       "      <td>1457.150024</td>\n",
       "      <td>2718.719971</td>\n",
       "      <td>0.15</td>\n",
       "      <td>0.012710</td>\n",
       "      <td>87.804651</td>\n",
       "    </tr>\n",
       "  </tbody>\n",
       "</table>\n",
       "</div>"
      ],
      "text/plain": [
       "         Date      Close     eps_q  book_value  de_ratio       npm  \\\n",
       "0  2013-01-02  27.500000  0.017091  185.981818  0.022074  0.003807   \n",
       "1  2013-01-03  27.684999  0.016977  184.739032  0.021927  0.003781   \n",
       "2  2013-01-04  27.844999  0.016879  183.677505  0.021801  0.003759   \n",
       "3  2013-01-07  27.860001  0.016870  183.578603  0.021789  0.003757   \n",
       "4  2013-01-08  27.809999  0.016900  183.908669  0.021828  0.003764   \n",
       "\n",
       "         gold   crudeoil        sp500          ndx   fed      MACD         rsi  \n",
       "0  163.169998  93.120003  1462.420044  2746.469971  0.17  0.000000  100.000000  \n",
       "1  161.199997  92.919998  1459.369995  2732.260010  0.17  0.004151  100.000000  \n",
       "2  160.440002  93.089996  1466.469971  2724.489990  0.16  0.010250  100.000000  \n",
       "3  159.429993  93.190002  1461.890015  2724.219971  0.16  0.013315  100.000000  \n",
       "4  160.559998  93.150002  1457.150024  2718.719971  0.15  0.012710   87.804651  "
      ]
     },
     "execution_count": 19,
     "metadata": {},
     "output_type": "execute_result"
    }
   ],
   "source": [
    "starbuck_fin = pd.read_csv('starbuck.csv')\n",
    "starbuck_fin.head()"
   ]
  },
  {
   "cell_type": "code",
   "execution_count": 20,
   "metadata": {},
   "outputs": [
    {
     "data": {
      "text/html": [
       "<div>\n",
       "<style scoped>\n",
       "    .dataframe tbody tr th:only-of-type {\n",
       "        vertical-align: middle;\n",
       "    }\n",
       "\n",
       "    .dataframe tbody tr th {\n",
       "        vertical-align: top;\n",
       "    }\n",
       "\n",
       "    .dataframe thead th {\n",
       "        text-align: right;\n",
       "    }\n",
       "</style>\n",
       "<table border=\"1\" class=\"dataframe\">\n",
       "  <thead>\n",
       "    <tr style=\"text-align: right;\">\n",
       "      <th></th>\n",
       "      <th>Date</th>\n",
       "      <th>Close</th>\n",
       "      <th>eps_q</th>\n",
       "      <th>book_value</th>\n",
       "      <th>de_ratio</th>\n",
       "      <th>npm</th>\n",
       "      <th>gold</th>\n",
       "      <th>crudeoil</th>\n",
       "      <th>sp500</th>\n",
       "      <th>ndx</th>\n",
       "      <th>fed</th>\n",
       "      <th>MACD</th>\n",
       "      <th>rsi</th>\n",
       "      <th>SMA21</th>\n",
       "      <th>bbupper</th>\n",
       "      <th>bblower</th>\n",
       "    </tr>\n",
       "  </thead>\n",
       "  <tbody>\n",
       "    <tr>\n",
       "      <th>0</th>\n",
       "      <td>2013-01-02</td>\n",
       "      <td>27.500000</td>\n",
       "      <td>0.017091</td>\n",
       "      <td>185.981818</td>\n",
       "      <td>0.022074</td>\n",
       "      <td>0.003807</td>\n",
       "      <td>163.169998</td>\n",
       "      <td>93.120003</td>\n",
       "      <td>1462.420044</td>\n",
       "      <td>2746.469971</td>\n",
       "      <td>0.17</td>\n",
       "      <td>0.000000</td>\n",
       "      <td>100.000000</td>\n",
       "      <td>27.594286</td>\n",
       "      <td>28.247762</td>\n",
       "      <td>26.894238</td>\n",
       "    </tr>\n",
       "    <tr>\n",
       "      <th>1</th>\n",
       "      <td>2013-01-03</td>\n",
       "      <td>27.684999</td>\n",
       "      <td>0.016977</td>\n",
       "      <td>184.739032</td>\n",
       "      <td>0.021927</td>\n",
       "      <td>0.003781</td>\n",
       "      <td>161.199997</td>\n",
       "      <td>92.919998</td>\n",
       "      <td>1459.369995</td>\n",
       "      <td>2732.260010</td>\n",
       "      <td>0.17</td>\n",
       "      <td>0.004151</td>\n",
       "      <td>100.000000</td>\n",
       "      <td>27.594286</td>\n",
       "      <td>28.247762</td>\n",
       "      <td>26.894238</td>\n",
       "    </tr>\n",
       "    <tr>\n",
       "      <th>2</th>\n",
       "      <td>2013-01-04</td>\n",
       "      <td>27.844999</td>\n",
       "      <td>0.016879</td>\n",
       "      <td>183.677505</td>\n",
       "      <td>0.021801</td>\n",
       "      <td>0.003759</td>\n",
       "      <td>160.440002</td>\n",
       "      <td>93.089996</td>\n",
       "      <td>1466.469971</td>\n",
       "      <td>2724.489990</td>\n",
       "      <td>0.16</td>\n",
       "      <td>0.010250</td>\n",
       "      <td>100.000000</td>\n",
       "      <td>27.594286</td>\n",
       "      <td>28.247762</td>\n",
       "      <td>26.894238</td>\n",
       "    </tr>\n",
       "    <tr>\n",
       "      <th>3</th>\n",
       "      <td>2013-01-07</td>\n",
       "      <td>27.860001</td>\n",
       "      <td>0.016870</td>\n",
       "      <td>183.578603</td>\n",
       "      <td>0.021789</td>\n",
       "      <td>0.003757</td>\n",
       "      <td>159.429993</td>\n",
       "      <td>93.190002</td>\n",
       "      <td>1461.890015</td>\n",
       "      <td>2724.219971</td>\n",
       "      <td>0.16</td>\n",
       "      <td>0.013315</td>\n",
       "      <td>100.000000</td>\n",
       "      <td>27.594286</td>\n",
       "      <td>28.247762</td>\n",
       "      <td>26.894238</td>\n",
       "    </tr>\n",
       "    <tr>\n",
       "      <th>4</th>\n",
       "      <td>2013-01-08</td>\n",
       "      <td>27.809999</td>\n",
       "      <td>0.016900</td>\n",
       "      <td>183.908669</td>\n",
       "      <td>0.021828</td>\n",
       "      <td>0.003764</td>\n",
       "      <td>160.559998</td>\n",
       "      <td>93.150002</td>\n",
       "      <td>1457.150024</td>\n",
       "      <td>2718.719971</td>\n",
       "      <td>0.15</td>\n",
       "      <td>0.012710</td>\n",
       "      <td>87.804651</td>\n",
       "      <td>27.594286</td>\n",
       "      <td>28.247762</td>\n",
       "      <td>26.894238</td>\n",
       "    </tr>\n",
       "  </tbody>\n",
       "</table>\n",
       "</div>"
      ],
      "text/plain": [
       "         Date      Close     eps_q  book_value  de_ratio       npm  \\\n",
       "0  2013-01-02  27.500000  0.017091  185.981818  0.022074  0.003807   \n",
       "1  2013-01-03  27.684999  0.016977  184.739032  0.021927  0.003781   \n",
       "2  2013-01-04  27.844999  0.016879  183.677505  0.021801  0.003759   \n",
       "3  2013-01-07  27.860001  0.016870  183.578603  0.021789  0.003757   \n",
       "4  2013-01-08  27.809999  0.016900  183.908669  0.021828  0.003764   \n",
       "\n",
       "         gold   crudeoil        sp500          ndx   fed      MACD  \\\n",
       "0  163.169998  93.120003  1462.420044  2746.469971  0.17  0.000000   \n",
       "1  161.199997  92.919998  1459.369995  2732.260010  0.17  0.004151   \n",
       "2  160.440002  93.089996  1466.469971  2724.489990  0.16  0.010250   \n",
       "3  159.429993  93.190002  1461.890015  2724.219971  0.16  0.013315   \n",
       "4  160.559998  93.150002  1457.150024  2718.719971  0.15  0.012710   \n",
       "\n",
       "          rsi      SMA21    bbupper    bblower  \n",
       "0  100.000000  27.594286  28.247762  26.894238  \n",
       "1  100.000000  27.594286  28.247762  26.894238  \n",
       "2  100.000000  27.594286  28.247762  26.894238  \n",
       "3  100.000000  27.594286  28.247762  26.894238  \n",
       "4   87.804651  27.594286  28.247762  26.894238  "
      ]
     },
     "metadata": {},
     "output_type": "display_data"
    }
   ],
   "source": [
    "# calculate sma\n",
    "starbuck_fin['SMA21'] = starbuck_fin['Close'].rolling(window = 21).mean()\n",
    "\n",
    "# calculate bband\n",
    "window_size = 20\n",
    "num_std_dev = 2\n",
    "rolling_mean = starbuck_fin['Close'].rolling(window = window_size).mean()\n",
    "rolling_std = starbuck_fin['Close'].rolling(window = window_size).std()\n",
    "\n",
    "starbuck_fin['bbupper'] = rolling_mean + (num_std_dev * rolling_std)\n",
    "starbuck_fin['bblower'] = rolling_mean - (num_std_dev * rolling_std)\n",
    "\n",
    "starbuck_fin.bfill(inplace=True)\n",
    "display(starbuck_fin.head())\n",
    "\n",
    "starbuck_fin.to_csv('starbuck_final_2.csv')"
   ]
  },
  {
   "cell_type": "markdown",
   "metadata": {},
   "source": [
    "### 3.) Data preprocessing"
   ]
  },
  {
   "cell_type": "code",
   "execution_count": 22,
   "metadata": {},
   "outputs": [
    {
     "data": {
      "text/html": [
       "<div>\n",
       "<style scoped>\n",
       "    .dataframe tbody tr th:only-of-type {\n",
       "        vertical-align: middle;\n",
       "    }\n",
       "\n",
       "    .dataframe tbody tr th {\n",
       "        vertical-align: top;\n",
       "    }\n",
       "\n",
       "    .dataframe thead th {\n",
       "        text-align: right;\n",
       "    }\n",
       "</style>\n",
       "<table border=\"1\" class=\"dataframe\">\n",
       "  <thead>\n",
       "    <tr style=\"text-align: right;\">\n",
       "      <th></th>\n",
       "      <th>Close</th>\n",
       "      <th>eps_q</th>\n",
       "      <th>book_value</th>\n",
       "      <th>de_ratio</th>\n",
       "      <th>npm</th>\n",
       "      <th>gold</th>\n",
       "      <th>crudeoil</th>\n",
       "      <th>sp500</th>\n",
       "      <th>ndx</th>\n",
       "      <th>fed</th>\n",
       "      <th>MACD</th>\n",
       "      <th>rsi</th>\n",
       "      <th>SMA21</th>\n",
       "      <th>bbupper</th>\n",
       "      <th>bblower</th>\n",
       "    </tr>\n",
       "    <tr>\n",
       "      <th>Date</th>\n",
       "      <th></th>\n",
       "      <th></th>\n",
       "      <th></th>\n",
       "      <th></th>\n",
       "      <th></th>\n",
       "      <th></th>\n",
       "      <th></th>\n",
       "      <th></th>\n",
       "      <th></th>\n",
       "      <th></th>\n",
       "      <th></th>\n",
       "      <th></th>\n",
       "      <th></th>\n",
       "      <th></th>\n",
       "      <th></th>\n",
       "    </tr>\n",
       "  </thead>\n",
       "  <tbody>\n",
       "    <tr>\n",
       "      <th>2013-01-02</th>\n",
       "      <td>27.500000</td>\n",
       "      <td>0.017091</td>\n",
       "      <td>185.981818</td>\n",
       "      <td>0.022074</td>\n",
       "      <td>0.003807</td>\n",
       "      <td>163.169998</td>\n",
       "      <td>93.120003</td>\n",
       "      <td>1462.420044</td>\n",
       "      <td>2746.469971</td>\n",
       "      <td>0.17</td>\n",
       "      <td>0.000000</td>\n",
       "      <td>100.000000</td>\n",
       "      <td>27.594286</td>\n",
       "      <td>28.247762</td>\n",
       "      <td>26.894238</td>\n",
       "    </tr>\n",
       "    <tr>\n",
       "      <th>2013-01-03</th>\n",
       "      <td>27.684999</td>\n",
       "      <td>0.016977</td>\n",
       "      <td>184.739032</td>\n",
       "      <td>0.021927</td>\n",
       "      <td>0.003781</td>\n",
       "      <td>161.199997</td>\n",
       "      <td>92.919998</td>\n",
       "      <td>1459.369995</td>\n",
       "      <td>2732.260010</td>\n",
       "      <td>0.17</td>\n",
       "      <td>0.004151</td>\n",
       "      <td>100.000000</td>\n",
       "      <td>27.594286</td>\n",
       "      <td>28.247762</td>\n",
       "      <td>26.894238</td>\n",
       "    </tr>\n",
       "    <tr>\n",
       "      <th>2013-01-04</th>\n",
       "      <td>27.844999</td>\n",
       "      <td>0.016879</td>\n",
       "      <td>183.677505</td>\n",
       "      <td>0.021801</td>\n",
       "      <td>0.003759</td>\n",
       "      <td>160.440002</td>\n",
       "      <td>93.089996</td>\n",
       "      <td>1466.469971</td>\n",
       "      <td>2724.489990</td>\n",
       "      <td>0.16</td>\n",
       "      <td>0.010250</td>\n",
       "      <td>100.000000</td>\n",
       "      <td>27.594286</td>\n",
       "      <td>28.247762</td>\n",
       "      <td>26.894238</td>\n",
       "    </tr>\n",
       "    <tr>\n",
       "      <th>2013-01-07</th>\n",
       "      <td>27.860001</td>\n",
       "      <td>0.016870</td>\n",
       "      <td>183.578603</td>\n",
       "      <td>0.021789</td>\n",
       "      <td>0.003757</td>\n",
       "      <td>159.429993</td>\n",
       "      <td>93.190002</td>\n",
       "      <td>1461.890015</td>\n",
       "      <td>2724.219971</td>\n",
       "      <td>0.16</td>\n",
       "      <td>0.013315</td>\n",
       "      <td>100.000000</td>\n",
       "      <td>27.594286</td>\n",
       "      <td>28.247762</td>\n",
       "      <td>26.894238</td>\n",
       "    </tr>\n",
       "    <tr>\n",
       "      <th>2013-01-08</th>\n",
       "      <td>27.809999</td>\n",
       "      <td>0.016900</td>\n",
       "      <td>183.908669</td>\n",
       "      <td>0.021828</td>\n",
       "      <td>0.003764</td>\n",
       "      <td>160.559998</td>\n",
       "      <td>93.150002</td>\n",
       "      <td>1457.150024</td>\n",
       "      <td>2718.719971</td>\n",
       "      <td>0.15</td>\n",
       "      <td>0.012710</td>\n",
       "      <td>87.804651</td>\n",
       "      <td>27.594286</td>\n",
       "      <td>28.247762</td>\n",
       "      <td>26.894238</td>\n",
       "    </tr>\n",
       "  </tbody>\n",
       "</table>\n",
       "</div>"
      ],
      "text/plain": [
       "                Close     eps_q  book_value  de_ratio       npm        gold  \\\n",
       "Date                                                                          \n",
       "2013-01-02  27.500000  0.017091  185.981818  0.022074  0.003807  163.169998   \n",
       "2013-01-03  27.684999  0.016977  184.739032  0.021927  0.003781  161.199997   \n",
       "2013-01-04  27.844999  0.016879  183.677505  0.021801  0.003759  160.440002   \n",
       "2013-01-07  27.860001  0.016870  183.578603  0.021789  0.003757  159.429993   \n",
       "2013-01-08  27.809999  0.016900  183.908669  0.021828  0.003764  160.559998   \n",
       "\n",
       "             crudeoil        sp500          ndx   fed      MACD         rsi  \\\n",
       "Date                                                                          \n",
       "2013-01-02  93.120003  1462.420044  2746.469971  0.17  0.000000  100.000000   \n",
       "2013-01-03  92.919998  1459.369995  2732.260010  0.17  0.004151  100.000000   \n",
       "2013-01-04  93.089996  1466.469971  2724.489990  0.16  0.010250  100.000000   \n",
       "2013-01-07  93.190002  1461.890015  2724.219971  0.16  0.013315  100.000000   \n",
       "2013-01-08  93.150002  1457.150024  2718.719971  0.15  0.012710   87.804651   \n",
       "\n",
       "                SMA21    bbupper    bblower  \n",
       "Date                                         \n",
       "2013-01-02  27.594286  28.247762  26.894238  \n",
       "2013-01-03  27.594286  28.247762  26.894238  \n",
       "2013-01-04  27.594286  28.247762  26.894238  \n",
       "2013-01-07  27.594286  28.247762  26.894238  \n",
       "2013-01-08  27.594286  28.247762  26.894238  "
      ]
     },
     "metadata": {},
     "output_type": "display_data"
    },
    {
     "data": {
      "text/plain": [
       "(2506, 15)"
      ]
     },
     "metadata": {},
     "output_type": "display_data"
    }
   ],
   "source": [
    "# 3.1) import libraries\n",
    "\n",
    "import os\n",
    "import pandas as pd\n",
    "import numpy as np\n",
    "import pandas as pd\n",
    "import statsmodels.api as sm\n",
    "from numpy import *\n",
    "from math import sqrt\n",
    "from pandas import *\n",
    "from datetime import datetime, timedelta\n",
    "import matplotlib.pyplot as plt\n",
    "from sklearn.preprocessing import MinMaxScaler\n",
    "from pickle import dump\n",
    "\n",
    "starbuck_fin['Date'] = pd.to_datetime(starbuck_fin['Date'])\n",
    "starbuck_fin.set_index('Date', inplace=True)\n",
    "display(starbuck_fin.head())\n",
    "display(starbuck_fin.shape)"
   ]
  },
  {
   "cell_type": "code",
   "execution_count": 23,
   "metadata": {},
   "outputs": [
    {
     "data": {
      "text/plain": [
       "(2506, 15)"
      ]
     },
     "metadata": {},
     "output_type": "display_data"
    }
   ],
   "source": [
    "display(starbuck_fin.shape)"
   ]
  },
  {
   "cell_type": "code",
   "execution_count": 24,
   "metadata": {},
   "outputs": [],
   "source": [
    "# 3.2) specifying x and y\n",
    "\n",
    "X_value = pd.DataFrame(starbuck_fin.iloc[:, :])\n",
    "y_value = pd.DataFrame(starbuck_fin.iloc[:, 0])"
   ]
  },
  {
   "cell_type": "code",
   "execution_count": 26,
   "metadata": {},
   "outputs": [
    {
     "data": {
      "text/plain": [
       "(2506, 15)"
      ]
     },
     "metadata": {},
     "output_type": "display_data"
    },
    {
     "data": {
      "text/plain": [
       "(2506, 1)"
      ]
     },
     "metadata": {},
     "output_type": "display_data"
    }
   ],
   "source": [
    "display(X_value.shape)\n",
    "display(y_value.shape)"
   ]
  },
  {
   "cell_type": "code",
   "execution_count": 25,
   "metadata": {},
   "outputs": [],
   "source": [
    "# 3.3) Normalized the data\n",
    "\n",
    "X_scaler = MinMaxScaler(feature_range=(-1, 1))\n",
    "y_scaler = MinMaxScaler(feature_range=(-1, 1))\n",
    "X_scaler.fit(X_value)\n",
    "y_scaler.fit(y_value)\n",
    "\n",
    "X_scale_dataset = X_scaler.fit_transform(X_value)\n",
    "y_scale_dataset = y_scaler.fit_transform(y_value)\n",
    "\n",
    "dump(X_scaler, open('X_scaler.pkl', 'wb'))\n",
    "dump(y_scaler, open('y_scaler.pkl', 'wb'))"
   ]
  },
  {
   "cell_type": "code",
   "execution_count": 30,
   "metadata": {},
   "outputs": [
    {
     "data": {
      "text/plain": [
       "(2506, 15)"
      ]
     },
     "metadata": {},
     "output_type": "display_data"
    },
    {
     "data": {
      "text/plain": [
       "(2506, 1)"
      ]
     },
     "metadata": {},
     "output_type": "display_data"
    }
   ],
   "source": [
    "display(X_scale_dataset.shape)\n",
    "display(y_scale_dataset.shape)"
   ]
  },
  {
   "cell_type": "code",
   "execution_count": 31,
   "metadata": {},
   "outputs": [],
   "source": [
    "# 3.4) function for reshaping data / getting index of training and testing\n",
    "# and spliting train and test dataset\n",
    "\n",
    "n_steps_in = 3\n",
    "n_features = X_value.shape[1]\n",
    "n_steps_out = 1\n",
    "\n",
    "# Get X/y dataset\n",
    "def get_X_y(X_data, y_data):\n",
    "    X = list()\n",
    "    y = list()\n",
    "    yc = list()\n",
    "\n",
    "    length = len(X_data)\n",
    "    for i in range(0, length, 1):\n",
    "        X_value = X_data[i: i + n_steps_in][:, :]\n",
    "        y_value = y_data[i + n_steps_in: i + (n_steps_in + n_steps_out)][:, 0]\n",
    "        yc_value = y_data[i: i + n_steps_in][:, :]\n",
    "        if len(X_value) == 3 and len(y_value) == 1:\n",
    "            X.append(X_value)\n",
    "            y.append(y_value)\n",
    "            yc.append(yc_value)\n",
    "\n",
    "    return np.array(X), np.array(y), np.array(yc)\n",
    "\n",
    "# get the train test predict index\n",
    "def predict_index(dataset, X_train, n_steps_in, n_steps_out):\n",
    "\n",
    "    # get the predict data (remove the in_steps days)\n",
    "    train_predict_index = dataset.iloc[n_steps_in : X_train.shape[0] + n_steps_in + n_steps_out - 1, :].index\n",
    "    test_predict_index = dataset.iloc[X_train.shape[0] + n_steps_in:, :].index\n",
    "\n",
    "    return train_predict_index, test_predict_index\n",
    "\n",
    "# Split train/test dataset\n",
    "def split_train_test(data):\n",
    "    train_size = round(len(X) * 0.7)\n",
    "    data_train = data[0:train_size]\n",
    "    data_test = data[train_size:]\n",
    "    return data_train, data_test"
   ]
  },
  {
   "cell_type": "code",
   "execution_count": 32,
   "metadata": {},
   "outputs": [],
   "source": [
    "# 3.5) getting data and checking for shape\n",
    "\n",
    "X, y, yc = get_X_y(X_scale_dataset, y_scale_dataset)\n",
    "X_train, X_test, = split_train_test(X)\n",
    "y_train, y_test, = split_train_test(y)\n",
    "yc_train, yc_test, = split_train_test(yc)\n",
    "index_train, index_test, = predict_index(starbuck_fin, X_train, n_steps_in, n_steps_out)"
   ]
  },
  {
   "cell_type": "code",
   "execution_count": 41,
   "metadata": {},
   "outputs": [
    {
     "data": {
      "text/plain": [
       "(2503, 3, 15)"
      ]
     },
     "metadata": {},
     "output_type": "display_data"
    },
    {
     "data": {
      "text/plain": [
       "(2503, 1)"
      ]
     },
     "metadata": {},
     "output_type": "display_data"
    }
   ],
   "source": [
    "display(X.shape)\n",
    "display(y.shape)"
   ]
  },
  {
   "cell_type": "code",
   "execution_count": 33,
   "metadata": {},
   "outputs": [
    {
     "name": "stdout",
     "output_type": "stream",
     "text": [
      "X shape:  (2503, 3, 15)\n",
      "y shape:  (2503, 1)\n",
      "X_train shape:  (1752, 3, 15)\n",
      "y_train shape:  (1752, 1)\n",
      "y_c_train shape:  (1752, 3, 1)\n",
      "X_test shape:  (751, 3, 15)\n",
      "y_test shape:  (751, 1)\n",
      "y_c_test shape:  (751, 3, 1)\n",
      "index_train shape: (1752,)\n",
      "index_test shape: (751,)\n"
     ]
    }
   ],
   "source": [
    "# 3.6) show data's shape and save\n",
    "\n",
    "print('X shape: ', X.shape)\n",
    "print('y shape: ', y.shape)\n",
    "print('X_train shape: ', X_train.shape)\n",
    "print('y_train shape: ', y_train.shape)\n",
    "print('y_c_train shape: ', yc_train.shape)\n",
    "print('X_test shape: ', X_test.shape)\n",
    "print('y_test shape: ', y_test.shape)\n",
    "print('y_c_test shape: ', yc_test.shape)\n",
    "print('index_train shape:', index_train.shape)\n",
    "print('index_test shape:', index_test.shape)\n",
    "\n",
    "np.save(\"X_train.npy\", X_train)\n",
    "np.save(\"y_train.npy\", y_train)\n",
    "np.save(\"X_test.npy\", X_test)\n",
    "np.save(\"y_test.npy\", y_test)\n",
    "np.save(\"yc_train.npy\", yc_train)\n",
    "np.save(\"yc_test.npy\", yc_test)\n",
    "np.save('index_train.npy', index_train)\n",
    "np.save('index_test.npy', index_test)"
   ]
  },
  {
   "cell_type": "markdown",
   "metadata": {},
   "source": [
    "### 4.) GAN framework - training model"
   ]
  },
  {
   "cell_type": "code",
   "execution_count": 11,
   "metadata": {},
   "outputs": [],
   "source": [
    "# 4.1) import libraries\n",
    "\n",
    "import time\n",
    "import os\n",
    "import pandas as pd\n",
    "import matplotlib.pyplot as plt\n",
    "import tensorflow as tf\n",
    "import numpy as np\n",
    "#from main.feature import get_all_features\n",
    "from tensorflow.keras.layers import GRU, LSTM, Bidirectional, Dense, Flatten, Conv1D, BatchNormalization, LeakyReLU, Dropout\n",
    "from tensorflow.keras import Sequential\n",
    "from pickle import load\n",
    "from sklearn.metrics import mean_squared_error"
   ]
  },
  {
   "cell_type": "code",
   "execution_count": 12,
   "metadata": {},
   "outputs": [],
   "source": [
    "# 4.2) import data\n",
    "\n",
    "X_train = np.load(\"X_train.npy\", allow_pickle=True)\n",
    "y_train = np.load(\"y_train.npy\", allow_pickle=True)\n",
    "X_test = np.load(\"X_test.npy\", allow_pickle=True)\n",
    "y_test = np.load(\"y_test.npy\", allow_pickle=True)\n",
    "yc_train = np.load(\"yc_train.npy\", allow_pickle=True)\n",
    "yc_test = np.load(\"yc_test.npy\", allow_pickle=True)"
   ]
  },
  {
   "cell_type": "code",
   "execution_count": 13,
   "metadata": {},
   "outputs": [],
   "source": [
    "# 4.3) function for generator, discriminator and GAN\n",
    "\n",
    "def make_generator_model(input_dim, output_dim, feature_size) -> tf.keras.models.Model:\n",
    "\n",
    "    model = Sequential()\n",
    "    model.add(GRU(units=1024, return_sequences = True, input_shape=(input_dim, feature_size),\n",
    "                  recurrent_dropout=0.2))\n",
    "    model.add(GRU(units=512, return_sequences = True, recurrent_dropout=0.2)) # 256, return_sequences = True\n",
    "    model.add(GRU(units=256, recurrent_dropout=0.2)) #, recurrent_dropout=0.1\n",
    "    # , recurrent_dropout = 0.2\n",
    "    model.add(Dense(128))\n",
    "    # model.add(Dense(128))\n",
    "    model.add(Dense(64))\n",
    "    #model.add(Dense(16))\n",
    "    model.add(Dense(units=output_dim))\n",
    "    return model\n",
    "\n",
    "def make_discriminator_model():\n",
    "\n",
    "    cnn_net = tf.keras.Sequential()\n",
    "    cnn_net.add(Conv1D(32, input_shape=(4, 1), kernel_size=3, strides=2, padding='same', activation=LeakyReLU(alpha=0.01)))\n",
    "    cnn_net.add(Conv1D(64, kernel_size=5, strides=2, padding='same', activation=LeakyReLU(alpha=0.01)))\n",
    "    cnn_net.add(Conv1D(128, kernel_size=5, strides=2, padding='same', activation=LeakyReLU(alpha=0.01)))\n",
    "    cnn_net.add(Flatten())\n",
    "    cnn_net.add(Dense(220, use_bias=False))\n",
    "    cnn_net.add(LeakyReLU())\n",
    "    cnn_net.add(Dense(220, use_bias=False, activation='relu'))\n",
    "    cnn_net.add(Dense(1, activation='sigmoid'))\n",
    "    return cnn_net\n",
    "\n",
    "class GAN:\n",
    "    def __init__(self, generator, discriminator, opt):\n",
    "        self.opt = opt\n",
    "        self.lr = opt[\"lr\"]\n",
    "        self.generator = generator\n",
    "        self.discriminator = discriminator\n",
    "        self.cross_entropy = tf.keras.losses.BinaryCrossentropy(from_logits=True)\n",
    "        self.generator_optimizer = tf.keras.optimizers.Adam(lr=self.lr)\n",
    "        self.discriminator_optimizer = tf.keras.optimizers.Adam(lr=self.lr)\n",
    "        self.batch_size = self.opt['bs']\n",
    "        self.checkpoint_dir = '../training_checkpoints'\n",
    "        self.checkpoint_prefix = os.path.join(self.checkpoint_dir, \"ckpt\")\n",
    "        self.checkpoint = tf.train.Checkpoint(generator_optimizer=self.generator_optimizer,\n",
    "                                              discriminator_optimizer=self.discriminator_optimizer,\n",
    "                                              generator=self.generator,\n",
    "                                              discriminator=self.discriminator)\n",
    "\n",
    "    def discriminator_loss(self, real_output, fake_output):\n",
    "        real_loss = self.cross_entropy(tf.ones_like(real_output), real_output)\n",
    "        fake_loss = self.cross_entropy(tf.zeros_like(fake_output), fake_output)\n",
    "        total_loss = real_loss + fake_loss\n",
    "        return total_loss\n",
    "\n",
    "    def generator_loss(self, fake_output):\n",
    "        return self.cross_entropy(tf.ones_like(fake_output), fake_output)\n",
    "\n",
    "    @tf.function\n",
    "    def train_step(self, real_x, real_y, yc):\n",
    "        with tf.GradientTape() as gen_tape, tf.GradientTape() as disc_tape:\n",
    "            generated_data = self.generator(real_x, training=True)\n",
    "            generated_data_reshape = tf.reshape(generated_data, [generated_data.shape[0], generated_data.shape[1], 1])\n",
    "            d_fake_input = tf.concat([tf.cast(generated_data_reshape, tf.float64), yc], axis=1)\n",
    "            real_y_reshape = tf.reshape(real_y, [real_y.shape[0], real_y.shape[1], 1])\n",
    "            d_real_input = tf.concat([real_y_reshape, yc], axis=1)\n",
    "\n",
    "            # Reshape for MLP\n",
    "            # d_fake_input = tf.reshape(d_fake_input, [d_fake_input.shape[0], d_fake_input.shape[1]])\n",
    "            # d_real_input = tf.reshape(d_real_input, [d_real_input.shape[0], d_real_input.shape[1]])\n",
    "\n",
    "            real_output = self.discriminator(d_real_input, training=True)\n",
    "            fake_output = self.discriminator(d_fake_input, training=True)\n",
    "\n",
    "            gen_loss = self.generator_loss(fake_output)\n",
    "            disc_loss = self.discriminator_loss(real_output, fake_output)\n",
    "\n",
    "        gradients_of_generator = gen_tape.gradient(gen_loss, self.generator.trainable_variables)\n",
    "        gradients_of_discriminator = disc_tape.gradient(disc_loss, self.discriminator.trainable_variables)\n",
    "\n",
    "        self.generator_optimizer.apply_gradients(zip(gradients_of_generator, self.generator.trainable_variables))\n",
    "        self.discriminator_optimizer.apply_gradients(\n",
    "            zip(gradients_of_discriminator, self.discriminator.trainable_variables))\n",
    "        return real_y, generated_data, {'d_loss': disc_loss, 'g_loss': gen_loss}\n",
    "\n",
    "    def train(self, real_x, real_y, yc, opt):\n",
    "        train_hist = {}\n",
    "        train_hist['D_losses'] = []\n",
    "        train_hist['G_losses'] = []\n",
    "        train_hist['per_epoch_times'] = []\n",
    "        train_hist['total_ptime'] = []\n",
    "\n",
    "        epochs = opt[\"epoch\"]\n",
    "        for epoch in range(epochs):\n",
    "            start = time.time()\n",
    "\n",
    "            real_price, fake_price, loss = self.train_step(real_x, real_y, yc)\n",
    "\n",
    "            G_losses = []\n",
    "            D_losses = []\n",
    "\n",
    "            Real_price = []\n",
    "            Predicted_price = []\n",
    "\n",
    "            D_losses.append(loss['d_loss'].numpy())\n",
    "            G_losses.append(loss['g_loss'].numpy())\n",
    "\n",
    "            Predicted_price.append(fake_price.numpy())\n",
    "            Real_price.append(real_price.numpy())\n",
    "\n",
    "            # Save the model every 15 epochs\n",
    "            if (epoch + 1) % 15 == 0:\n",
    "                tf.keras.models.save_model(generator, 'gen_model_3_1_%d.h5' % epoch)\n",
    "                self.checkpoint.save(file_prefix=self.checkpoint_prefix + f'-{epoch}')\n",
    "                print('epoch', epoch + 1, 'd_loss', loss['d_loss'].numpy(), 'g_loss', loss['g_loss'].numpy())\n",
    "            # print('Time for epoch {} is {} sec'.format(epoch + 1, time.time() - start))\n",
    "            # For printing loss\n",
    "            epoch_end_time = time.time()\n",
    "            per_epoch_ptime = epoch_end_time - start\n",
    "            train_hist['D_losses'].append(D_losses)\n",
    "            train_hist['G_losses'].append(G_losses)\n",
    "            train_hist['per_epoch_times'].append(per_epoch_ptime)\n",
    "\n",
    "        # Reshape the predicted result & real\n",
    "        Predicted_price = np.array(Predicted_price)\n",
    "        Predicted_price = Predicted_price.reshape(Predicted_price.shape[1], Predicted_price.shape[2])\n",
    "        Real_price = np.array(Real_price)\n",
    "        Real_price = Real_price.reshape(Real_price.shape[1], Real_price.shape[2])\n",
    "\n",
    "        plt.plot(train_hist['D_losses'], label='D_loss')\n",
    "        plt.plot(train_hist['G_losses'], label='G_loss')\n",
    "        plt.xlabel('Epoch')\n",
    "        plt.ylabel('Loss')\n",
    "        plt.legend()\n",
    "        plt.show()\n",
    "\n",
    "        return Predicted_price, Real_price, np.sqrt(mean_squared_error(Real_price, Predicted_price)) / np.mean(\n",
    "            Real_price)"
   ]
  },
  {
   "cell_type": "code",
   "execution_count": 14,
   "metadata": {},
   "outputs": [
    {
     "name": "stderr",
     "output_type": "stream",
     "text": [
      "WARNING:absl:`lr` is deprecated in Keras optimizer, please use `learning_rate` or use the legacy optimizer, e.g.,tf.keras.optimizers.legacy.Adam.\n",
      "WARNING:absl:`lr` is deprecated in Keras optimizer, please use `learning_rate` or use the legacy optimizer, e.g.,tf.keras.optimizers.legacy.Adam.\n"
     ]
    },
    {
     "name": "stdout",
     "output_type": "stream",
     "text": [
      "WARNING:tensorflow:Compiled the loaded model, but the compiled metrics have yet to be built. `model.compile_metrics` will be empty until you train or evaluate the model.\n"
     ]
    },
    {
     "name": "stderr",
     "output_type": "stream",
     "text": [
      "WARNING:tensorflow:Compiled the loaded model, but the compiled metrics have yet to be built. `model.compile_metrics` will be empty until you train or evaluate the model.\n"
     ]
    },
    {
     "name": "stdout",
     "output_type": "stream",
     "text": [
      "epoch 15 d_loss 1.0184133 g_loss 1.3679713\n",
      "WARNING:tensorflow:Compiled the loaded model, but the compiled metrics have yet to be built. `model.compile_metrics` will be empty until you train or evaluate the model.\n"
     ]
    },
    {
     "name": "stderr",
     "output_type": "stream",
     "text": [
      "WARNING:tensorflow:Compiled the loaded model, but the compiled metrics have yet to be built. `model.compile_metrics` will be empty until you train or evaluate the model.\n"
     ]
    },
    {
     "name": "stdout",
     "output_type": "stream",
     "text": [
      "epoch 30 d_loss 1.3817677 g_loss 0.7029018\n",
      "WARNING:tensorflow:Compiled the loaded model, but the compiled metrics have yet to be built. `model.compile_metrics` will be empty until you train or evaluate the model.\n"
     ]
    },
    {
     "name": "stderr",
     "output_type": "stream",
     "text": [
      "WARNING:tensorflow:Compiled the loaded model, but the compiled metrics have yet to be built. `model.compile_metrics` will be empty until you train or evaluate the model.\n"
     ]
    },
    {
     "name": "stdout",
     "output_type": "stream",
     "text": [
      "epoch 45 d_loss 1.38237 g_loss 0.6855193\n",
      "WARNING:tensorflow:Compiled the loaded model, but the compiled metrics have yet to be built. `model.compile_metrics` will be empty until you train or evaluate the model.\n"
     ]
    },
    {
     "name": "stderr",
     "output_type": "stream",
     "text": [
      "WARNING:tensorflow:Compiled the loaded model, but the compiled metrics have yet to be built. `model.compile_metrics` will be empty until you train or evaluate the model.\n"
     ]
    },
    {
     "name": "stdout",
     "output_type": "stream",
     "text": [
      "epoch 60 d_loss 1.3854188 g_loss 0.6913346\n",
      "WARNING:tensorflow:Compiled the loaded model, but the compiled metrics have yet to be built. `model.compile_metrics` will be empty until you train or evaluate the model.\n"
     ]
    },
    {
     "name": "stderr",
     "output_type": "stream",
     "text": [
      "WARNING:tensorflow:Compiled the loaded model, but the compiled metrics have yet to be built. `model.compile_metrics` will be empty until you train or evaluate the model.\n"
     ]
    },
    {
     "name": "stdout",
     "output_type": "stream",
     "text": [
      "epoch 75 d_loss 1.3863121 g_loss 0.6907255\n",
      "WARNING:tensorflow:Compiled the loaded model, but the compiled metrics have yet to be built. `model.compile_metrics` will be empty until you train or evaluate the model.\n"
     ]
    },
    {
     "name": "stderr",
     "output_type": "stream",
     "text": [
      "WARNING:tensorflow:Compiled the loaded model, but the compiled metrics have yet to be built. `model.compile_metrics` will be empty until you train or evaluate the model.\n"
     ]
    },
    {
     "name": "stdout",
     "output_type": "stream",
     "text": [
      "epoch 90 d_loss 1.3857939 g_loss 0.6935238\n",
      "WARNING:tensorflow:Compiled the loaded model, but the compiled metrics have yet to be built. `model.compile_metrics` will be empty until you train or evaluate the model.\n"
     ]
    },
    {
     "name": "stderr",
     "output_type": "stream",
     "text": [
      "WARNING:tensorflow:Compiled the loaded model, but the compiled metrics have yet to be built. `model.compile_metrics` will be empty until you train or evaluate the model.\n"
     ]
    },
    {
     "name": "stdout",
     "output_type": "stream",
     "text": [
      "epoch 105 d_loss 1.3863478 g_loss 0.6932734\n",
      "WARNING:tensorflow:Compiled the loaded model, but the compiled metrics have yet to be built. `model.compile_metrics` will be empty until you train or evaluate the model.\n"
     ]
    },
    {
     "name": "stderr",
     "output_type": "stream",
     "text": [
      "WARNING:tensorflow:Compiled the loaded model, but the compiled metrics have yet to be built. `model.compile_metrics` will be empty until you train or evaluate the model.\n"
     ]
    },
    {
     "name": "stdout",
     "output_type": "stream",
     "text": [
      "epoch 120 d_loss 1.3853238 g_loss 0.69355226\n",
      "WARNING:tensorflow:Compiled the loaded model, but the compiled metrics have yet to be built. `model.compile_metrics` will be empty until you train or evaluate the model.\n"
     ]
    },
    {
     "name": "stderr",
     "output_type": "stream",
     "text": [
      "WARNING:tensorflow:Compiled the loaded model, but the compiled metrics have yet to be built. `model.compile_metrics` will be empty until you train or evaluate the model.\n"
     ]
    },
    {
     "name": "stdout",
     "output_type": "stream",
     "text": [
      "epoch 135 d_loss 1.3833674 g_loss 0.6884682\n",
      "WARNING:tensorflow:Compiled the loaded model, but the compiled metrics have yet to be built. `model.compile_metrics` will be empty until you train or evaluate the model.\n"
     ]
    },
    {
     "name": "stderr",
     "output_type": "stream",
     "text": [
      "WARNING:tensorflow:Compiled the loaded model, but the compiled metrics have yet to be built. `model.compile_metrics` will be empty until you train or evaluate the model.\n"
     ]
    },
    {
     "name": "stdout",
     "output_type": "stream",
     "text": [
      "epoch 150 d_loss 1.3707049 g_loss 0.71474123\n",
      "WARNING:tensorflow:Compiled the loaded model, but the compiled metrics have yet to be built. `model.compile_metrics` will be empty until you train or evaluate the model.\n"
     ]
    },
    {
     "name": "stderr",
     "output_type": "stream",
     "text": [
      "WARNING:tensorflow:Compiled the loaded model, but the compiled metrics have yet to be built. `model.compile_metrics` will be empty until you train or evaluate the model.\n"
     ]
    },
    {
     "name": "stdout",
     "output_type": "stream",
     "text": [
      "epoch 165 d_loss 1.3292518 g_loss 0.7246356\n"
     ]
    },
    {
     "data": {
      "image/png": "[encoded data removed]",
      "text/plain": [
       "<Figure size 640x480 with 1 Axes>"
      ]
     },
     "metadata": {},
     "output_type": "display_data"
    }
   ],
   "source": [
    "# 4.4) training model\n",
    "\n",
    "input_dim = X_train.shape[1]\n",
    "feature_size = X_train.shape[2]\n",
    "output_dim = y_train.shape[1]\n",
    "\n",
    "## For Bayesian\n",
    "opt = {\"lr\": 0.00016, \"epoch\": 165, 'bs': 128}\n",
    "\n",
    "generator = make_generator_model(X_train.shape[1], output_dim, X_train.shape[2])\n",
    "discriminator = make_discriminator_model()\n",
    "gan = GAN(generator, discriminator, opt)\n",
    "Predicted_price, Real_price, RMSPE = gan.train(X_train, y_train, yc_train, opt)"
   ]
  },
  {
   "cell_type": "markdown",
   "metadata": {},
   "source": [
    "### 6.) GAN framework - checking RSME for training set"
   ]
  },
  {
   "cell_type": "code",
   "execution_count": 15,
   "metadata": {},
   "outputs": [
    {
     "name": "stdout",
     "output_type": "stream",
     "text": [
      "WARNING:tensorflow:No training configuration found in the save file, so the model was *not* compiled. Compile it manually.\n"
     ]
    },
    {
     "name": "stderr",
     "output_type": "stream",
     "text": [
      "WARNING:tensorflow:No training configuration found in the save file, so the model was *not* compiled. Compile it manually.\n"
     ]
    },
    {
     "name": "stdout",
     "output_type": "stream",
     "text": [
      "-- RMSE --  525.1396385000236\n",
      "WARNING:tensorflow:No training configuration found in the save file, so the model was *not* compiled. Compile it manually.\n"
     ]
    },
    {
     "name": "stderr",
     "output_type": "stream",
     "text": [
      "WARNING:tensorflow:No training configuration found in the save file, so the model was *not* compiled. Compile it manually.\n"
     ]
    },
    {
     "name": "stdout",
     "output_type": "stream",
     "text": [
      "-- RMSE --  14.145344654488328\n",
      "WARNING:tensorflow:No training configuration found in the save file, so the model was *not* compiled. Compile it manually.\n"
     ]
    },
    {
     "name": "stderr",
     "output_type": "stream",
     "text": [
      "WARNING:tensorflow:No training configuration found in the save file, so the model was *not* compiled. Compile it manually.\n"
     ]
    },
    {
     "name": "stdout",
     "output_type": "stream",
     "text": [
      "-- RMSE --  1.7973926621638134\n",
      "WARNING:tensorflow:No training configuration found in the save file, so the model was *not* compiled. Compile it manually.\n"
     ]
    },
    {
     "name": "stderr",
     "output_type": "stream",
     "text": [
      "WARNING:tensorflow:No training configuration found in the save file, so the model was *not* compiled. Compile it manually.\n"
     ]
    },
    {
     "name": "stdout",
     "output_type": "stream",
     "text": [
      "-- RMSE --  2.1391396416006954\n",
      "WARNING:tensorflow:No training configuration found in the save file, so the model was *not* compiled. Compile it manually.\n"
     ]
    },
    {
     "name": "stderr",
     "output_type": "stream",
     "text": [
      "WARNING:tensorflow:No training configuration found in the save file, so the model was *not* compiled. Compile it manually.\n"
     ]
    },
    {
     "name": "stdout",
     "output_type": "stream",
     "text": [
      "-- RMSE --  1.3117832196307926\n",
      "WARNING:tensorflow:No training configuration found in the save file, so the model was *not* compiled. Compile it manually.\n"
     ]
    },
    {
     "name": "stderr",
     "output_type": "stream",
     "text": [
      "WARNING:tensorflow:No training configuration found in the save file, so the model was *not* compiled. Compile it manually.\n"
     ]
    },
    {
     "name": "stdout",
     "output_type": "stream",
     "text": [
      "-- RMSE --  1.9658408113530106\n",
      "WARNING:tensorflow:No training configuration found in the save file, so the model was *not* compiled. Compile it manually.\n"
     ]
    },
    {
     "name": "stderr",
     "output_type": "stream",
     "text": [
      "WARNING:tensorflow:No training configuration found in the save file, so the model was *not* compiled. Compile it manually.\n"
     ]
    },
    {
     "name": "stdout",
     "output_type": "stream",
     "text": [
      "-- RMSE --  1.2730910627483683\n",
      "WARNING:tensorflow:No training configuration found in the save file, so the model was *not* compiled. Compile it manually.\n"
     ]
    },
    {
     "name": "stderr",
     "output_type": "stream",
     "text": [
      "WARNING:tensorflow:No training configuration found in the save file, so the model was *not* compiled. Compile it manually.\n"
     ]
    },
    {
     "name": "stdout",
     "output_type": "stream",
     "text": [
      "-- RMSE --  1.2723341088014704\n",
      "WARNING:tensorflow:No training configuration found in the save file, so the model was *not* compiled. Compile it manually.\n"
     ]
    },
    {
     "name": "stderr",
     "output_type": "stream",
     "text": [
      "WARNING:tensorflow:No training configuration found in the save file, so the model was *not* compiled. Compile it manually.\n"
     ]
    },
    {
     "name": "stdout",
     "output_type": "stream",
     "text": [
      "-- RMSE --  3.104835988815862\n",
      "WARNING:tensorflow:No training configuration found in the save file, so the model was *not* compiled. Compile it manually.\n"
     ]
    },
    {
     "name": "stderr",
     "output_type": "stream",
     "text": [
      "WARNING:tensorflow:No training configuration found in the save file, so the model was *not* compiled. Compile it manually.\n"
     ]
    },
    {
     "name": "stdout",
     "output_type": "stream",
     "text": [
      "-- RMSE --  1.7735019287252198\n",
      "WARNING:tensorflow:No training configuration found in the save file, so the model was *not* compiled. Compile it manually.\n"
     ]
    },
    {
     "name": "stderr",
     "output_type": "stream",
     "text": [
      "WARNING:tensorflow:No training configuration found in the save file, so the model was *not* compiled. Compile it manually.\n"
     ]
    },
    {
     "name": "stdout",
     "output_type": "stream",
     "text": [
      "-- RMSE --  2.8535234540157477\n",
      "{'gen_model_3_1_14.h5': 525.1396385000236, 'gen_model_3_1_29.h5': 14.145344654488328, 'gen_model_3_1_44.h5': 1.7973926621638134, 'gen_model_3_1_59.h5': 2.1391396416006954, 'gen_model_3_1_74.h5': 1.3117832196307926, 'gen_model_3_1_89.h5': 1.9658408113530106, 'gen_model_3_1_104.h5': 1.2730910627483683, 'gen_model_3_1_119.h5': 1.2723341088014704, 'gen_model_3_1_134.h5': 3.104835988815862, 'gen_model_3_1_149.h5': 1.7735019287252198, 'gen_model_3_1_164.h5': 2.8535234540157477}\n"
     ]
    }
   ],
   "source": [
    "RMSE_training = {}\n",
    "\n",
    "models = [\n",
    "    'gen_model_3_1_14.h5',\n",
    "    'gen_model_3_1_29.h5',\n",
    "    'gen_model_3_1_44.h5',\n",
    "    'gen_model_3_1_59.h5',\n",
    "    'gen_model_3_1_74.h5',\n",
    "    'gen_model_3_1_89.h5',\n",
    "    'gen_model_3_1_104.h5',\n",
    "    'gen_model_3_1_119.h5',\n",
    "    'gen_model_3_1_134.h5',\n",
    "    'gen_model_3_1_149.h5',\n",
    "    'gen_model_3_1_164.h5'\n",
    "]\n",
    "\n",
    "\n",
    "\n",
    "def get_test_plot(X_test, y_test):\n",
    "    # Set output steps\n",
    "    output_dim = y_test.shape[1]\n",
    "\n",
    "    # Get predicted data\n",
    "    y_predicted = G_model(X_test)\n",
    "    rescaled_real_y = y_scaler.inverse_transform(y_test)\n",
    "    rescaled_predicted_y = y_scaler.inverse_transform(y_predicted)\n",
    "\n",
    "    ## Predicted price\n",
    "    predict_result = pd.DataFrame()\n",
    "    for i in range(rescaled_predicted_y.shape[0]):\n",
    "        y_predict = pd.DataFrame(rescaled_predicted_y[i], columns=[\"predicted_price\"],\n",
    "                                 index=train_predict_index[i:i + output_dim])\n",
    "        predict_result = pd.concat([predict_result, y_predict], axis=1, sort=False)\n",
    "\n",
    "    ## Real price\n",
    "    real_price = pd.DataFrame()\n",
    "    for i in range(rescaled_real_y.shape[0]):\n",
    "        y_train = pd.DataFrame(rescaled_real_y[i], columns=[\"real_price\"], index=train_predict_index[i:i + output_dim])\n",
    "        real_price = pd.concat([real_price, y_train], axis=1, sort=False)\n",
    "\n",
    "    predict_result['predicted_mean'] = predict_result.mean(axis=1)\n",
    "    real_price['real_mean'] = real_price.mean(axis=1)\n",
    "\n",
    "    #drop 2020\n",
    "    # Input_Before = '2020-01-01'\n",
    "    # predict_result = predict_result.loc[predict_result.index < Input_Before]\n",
    "    # real_price = real_price.loc[real_price.index < Input_Before]\n",
    "\n",
    "    # Plot the predicted result\n",
    "    # plt.figure(figsize=(16, 8))\n",
    "    # plt.plot(real_price[\"real_mean\"])\n",
    "    # plt.plot(predict_result[\"predicted_mean\"], color='r')\n",
    "    # plt.xlabel(\"Date\")\n",
    "    # plt.ylabel(\"Stock price\")\n",
    "    # plt.legend((\"Real price\", \"Predicted price\"), loc=\"upper left\", fontsize=16)\n",
    "    # plt.title(\"The result of test\", fontsize=20)\n",
    "    # plt.show()\n",
    "    # plt.savefig('test_plot.png')\n",
    "\n",
    "    # Calculate RMSE\n",
    "    predicted = predict_result[\"predicted_mean\"]\n",
    "    real = real_price[\"real_mean\"]\n",
    "    For_MSE = pd.concat([predicted, real], axis=1)\n",
    "    RMSE = np.sqrt(mean_squared_error(predicted, real))\n",
    "    print('-- RMSE -- ', RMSE)\n",
    "\n",
    "    return predict_result, RMSE\n",
    "\n",
    "# Load test dataset/ \n",
    "\n",
    "for model in models:\n",
    "    X_scaler = load(open('X_scaler.pkl', 'rb'))\n",
    "    y_scaler = load(open('y_scaler.pkl', 'rb'))\n",
    "    train_predict_index = np.load(\"index_train.npy\", allow_pickle=True)\n",
    "    test_predict_index = np.load(\"index_test.npy\", allow_pickle=True)\n",
    "    G_model = tf.keras.models.load_model(model)\n",
    "    X_test = np.load(\"X_train.npy\", allow_pickle=True)\n",
    "    y_test = np.load(\"y_train.npy\", allow_pickle=True)\n",
    "    test_predicted, test_RMSE = get_test_plot(X_test, y_test)\n",
    "    RMSE_training[model] = test_RMSE\n",
    "\n",
    "print(RMSE_training)"
   ]
  },
  {
   "cell_type": "markdown",
   "metadata": {},
   "source": [
    "### 5.) GAN framework - checking RMSE for testing set"
   ]
  },
  {
   "cell_type": "code",
   "execution_count": 16,
   "metadata": {},
   "outputs": [
    {
     "name": "stdout",
     "output_type": "stream",
     "text": [
      "WARNING:tensorflow:No training configuration found in the save file, so the model was *not* compiled. Compile it manually.\n"
     ]
    },
    {
     "name": "stderr",
     "output_type": "stream",
     "text": [
      "WARNING:tensorflow:No training configuration found in the save file, so the model was *not* compiled. Compile it manually.\n"
     ]
    },
    {
     "name": "stdout",
     "output_type": "stream",
     "text": [
      "-- RMSE --  177.31940374079315\n",
      "WARNING:tensorflow:No training configuration found in the save file, so the model was *not* compiled. Compile it manually.\n"
     ]
    },
    {
     "name": "stderr",
     "output_type": "stream",
     "text": [
      "WARNING:tensorflow:No training configuration found in the save file, so the model was *not* compiled. Compile it manually.\n"
     ]
    },
    {
     "name": "stdout",
     "output_type": "stream",
     "text": [
      "-- RMSE --  7.3345680702157265\n",
      "WARNING:tensorflow:No training configuration found in the save file, so the model was *not* compiled. Compile it manually.\n"
     ]
    },
    {
     "name": "stderr",
     "output_type": "stream",
     "text": [
      "WARNING:tensorflow:No training configuration found in the save file, so the model was *not* compiled. Compile it manually.\n"
     ]
    },
    {
     "name": "stdout",
     "output_type": "stream",
     "text": [
      "-- RMSE --  5.789109806768271\n",
      "WARNING:tensorflow:No training configuration found in the save file, so the model was *not* compiled. Compile it manually.\n"
     ]
    },
    {
     "name": "stderr",
     "output_type": "stream",
     "text": [
      "WARNING:tensorflow:No training configuration found in the save file, so the model was *not* compiled. Compile it manually.\n"
     ]
    },
    {
     "name": "stdout",
     "output_type": "stream",
     "text": [
      "-- RMSE --  4.051006511709676\n",
      "WARNING:tensorflow:No training configuration found in the save file, so the model was *not* compiled. Compile it manually.\n"
     ]
    },
    {
     "name": "stderr",
     "output_type": "stream",
     "text": [
      "WARNING:tensorflow:No training configuration found in the save file, so the model was *not* compiled. Compile it manually.\n"
     ]
    },
    {
     "name": "stdout",
     "output_type": "stream",
     "text": [
      "-- RMSE --  3.3493332783213225\n",
      "WARNING:tensorflow:No training configuration found in the save file, so the model was *not* compiled. Compile it manually.\n"
     ]
    },
    {
     "name": "stderr",
     "output_type": "stream",
     "text": [
      "WARNING:tensorflow:No training configuration found in the save file, so the model was *not* compiled. Compile it manually.\n"
     ]
    },
    {
     "name": "stdout",
     "output_type": "stream",
     "text": [
      "-- RMSE --  6.040189185838509\n",
      "WARNING:tensorflow:No training configuration found in the save file, so the model was *not* compiled. Compile it manually.\n"
     ]
    },
    {
     "name": "stderr",
     "output_type": "stream",
     "text": [
      "WARNING:tensorflow:No training configuration found in the save file, so the model was *not* compiled. Compile it manually.\n"
     ]
    },
    {
     "name": "stdout",
     "output_type": "stream",
     "text": [
      "-- RMSE --  3.8905658730626898\n",
      "WARNING:tensorflow:No training configuration found in the save file, so the model was *not* compiled. Compile it manually.\n"
     ]
    },
    {
     "name": "stderr",
     "output_type": "stream",
     "text": [
      "WARNING:tensorflow:No training configuration found in the save file, so the model was *not* compiled. Compile it manually.\n"
     ]
    },
    {
     "name": "stdout",
     "output_type": "stream",
     "text": [
      "-- RMSE --  3.0143729279591334\n",
      "WARNING:tensorflow:No training configuration found in the save file, so the model was *not* compiled. Compile it manually.\n"
     ]
    },
    {
     "name": "stderr",
     "output_type": "stream",
     "text": [
      "WARNING:tensorflow:No training configuration found in the save file, so the model was *not* compiled. Compile it manually.\n"
     ]
    },
    {
     "name": "stdout",
     "output_type": "stream",
     "text": [
      "-- RMSE --  3.0322689863928045\n",
      "WARNING:tensorflow:No training configuration found in the save file, so the model was *not* compiled. Compile it manually.\n"
     ]
    },
    {
     "name": "stderr",
     "output_type": "stream",
     "text": [
      "WARNING:tensorflow:No training configuration found in the save file, so the model was *not* compiled. Compile it manually.\n"
     ]
    },
    {
     "name": "stdout",
     "output_type": "stream",
     "text": [
      "-- RMSE --  3.0396565172878494\n",
      "WARNING:tensorflow:No training configuration found in the save file, so the model was *not* compiled. Compile it manually.\n"
     ]
    },
    {
     "name": "stderr",
     "output_type": "stream",
     "text": [
      "WARNING:tensorflow:No training configuration found in the save file, so the model was *not* compiled. Compile it manually.\n"
     ]
    },
    {
     "name": "stdout",
     "output_type": "stream",
     "text": [
      "-- RMSE --  3.46686035506207\n"
     ]
    }
   ],
   "source": [
    "RMSE_testing = {}\n",
    "\n",
    "models = [\n",
    "    'gen_model_3_1_14.h5',\n",
    "    'gen_model_3_1_29.h5',\n",
    "    'gen_model_3_1_44.h5',\n",
    "    'gen_model_3_1_59.h5',\n",
    "    'gen_model_3_1_74.h5',\n",
    "    'gen_model_3_1_89.h5',\n",
    "    'gen_model_3_1_104.h5',\n",
    "    'gen_model_3_1_119.h5',\n",
    "    'gen_model_3_1_134.h5',\n",
    "    'gen_model_3_1_149.h5',\n",
    "    'gen_model_3_1_164.h5'\n",
    "]\n",
    "\n",
    "def get_test_plot(X_test, y_test):\n",
    "    # Set output steps\n",
    "    output_dim = y_test.shape[1]\n",
    "\n",
    "    # Get predicted data\n",
    "    y_predicted = G_model(X_test)\n",
    "    rescaled_real_y = y_scaler.inverse_transform(y_test)\n",
    "    rescaled_predicted_y = y_scaler.inverse_transform(y_predicted)\n",
    "\n",
    "    ## Predicted price\n",
    "    predict_result = pd.DataFrame()\n",
    "    for i in range(rescaled_predicted_y.shape[0]):\n",
    "        y_predict = pd.DataFrame(rescaled_predicted_y[i], columns=[\"predicted_price\"],\n",
    "                                 index=test_predict_index[i:i + output_dim])\n",
    "        predict_result = pd.concat([predict_result, y_predict], axis=1, sort=False)\n",
    "\n",
    "    ## Real price\n",
    "    real_price = pd.DataFrame()\n",
    "    for i in range(rescaled_real_y.shape[0]):\n",
    "        y_train = pd.DataFrame(rescaled_real_y[i], columns=[\"real_price\"], index=test_predict_index[i:i + output_dim])\n",
    "        real_price = pd.concat([real_price, y_train], axis=1, sort=False)\n",
    "\n",
    "    predict_result['predicted_mean'] = predict_result.mean(axis=1)\n",
    "    real_price['real_mean'] = real_price.mean(axis=1)\n",
    "\n",
    "    #drop 2020\n",
    "    # Input_Before = '2020-01-01'\n",
    "    # predict_result = predict_result.loc[predict_result.index < Input_Before]\n",
    "    # real_price = real_price.loc[real_price.index < Input_Before]\n",
    "\n",
    "    # Plot the predicted result\n",
    "    # plt.figure(figsize=(16, 8))\n",
    "    # plt.plot(real_price[\"real_mean\"])\n",
    "    # plt.plot(predict_result[\"predicted_mean\"], color='r')\n",
    "    # plt.xlabel(\"Date\")\n",
    "    # plt.ylabel(\"Stock price\")\n",
    "    # plt.legend((\"Real price\", \"Predicted price\"), loc=\"upper left\", fontsize=16)\n",
    "    # plt.title(\"The result of test\", fontsize=20)\n",
    "    # plt.show()\n",
    "    # plt.savefig('test_plot.png')\n",
    "    # Calculate RMSE\n",
    "    predicted = predict_result[\"predicted_mean\"]\n",
    "    real = real_price[\"real_mean\"]\n",
    "    For_MSE = pd.concat([predicted, real], axis=1)\n",
    "    RMSE = np.sqrt(mean_squared_error(predicted, real))\n",
    "    print('-- RMSE -- ', RMSE)\n",
    "\n",
    "    return predict_result, RMSE\n",
    "\n",
    "\n",
    "# Load scaler/ index\n",
    "for model in models:\n",
    "    X_scaler = load(open('X_scaler.pkl', 'rb'))\n",
    "    y_scaler = load(open('y_scaler.pkl', 'rb'))\n",
    "    train_predict_index = np.load(\"index_train.npy\", allow_pickle=True)\n",
    "    test_predict_index = np.load(\"index_test.npy\", allow_pickle=True)\n",
    "    G_model = tf.keras.models.load_model(model)\n",
    "    X_test = np.load(\"X_test.npy\", allow_pickle=True)\n",
    "    y_test = np.load(\"y_test.npy\", allow_pickle=True)\n",
    "    test_predicted, test_RMSE = get_test_plot(X_test, y_test)\n",
    "    # test_predicted.to_csv(\"test_predicted.csv\")\n",
    "    RMSE_testing[model] = test_RMSE"
   ]
  },
  {
   "cell_type": "markdown",
   "metadata": {},
   "source": [
    "### 6.) Comparing Result and select the right model"
   ]
  },
  {
   "cell_type": "code",
   "execution_count": 27,
   "metadata": {},
   "outputs": [
    {
     "data": {
      "text/html": [
       "<div>\n",
       "<style scoped>\n",
       "    .dataframe tbody tr th:only-of-type {\n",
       "        vertical-align: middle;\n",
       "    }\n",
       "\n",
       "    .dataframe tbody tr th {\n",
       "        vertical-align: top;\n",
       "    }\n",
       "\n",
       "    .dataframe thead th {\n",
       "        text-align: right;\n",
       "    }\n",
       "</style>\n",
       "<table border=\"1\" class=\"dataframe\">\n",
       "  <thead>\n",
       "    <tr style=\"text-align: right;\">\n",
       "      <th></th>\n",
       "      <th>Training</th>\n",
       "      <th>Testing</th>\n",
       "    </tr>\n",
       "  </thead>\n",
       "  <tbody>\n",
       "    <tr>\n",
       "      <th>gen_model_3_1_14.h5</th>\n",
       "      <td>525.139639</td>\n",
       "      <td>177.319404</td>\n",
       "    </tr>\n",
       "    <tr>\n",
       "      <th>gen_model_3_1_29.h5</th>\n",
       "      <td>14.145345</td>\n",
       "      <td>7.334568</td>\n",
       "    </tr>\n",
       "    <tr>\n",
       "      <th>gen_model_3_1_44.h5</th>\n",
       "      <td>1.797393</td>\n",
       "      <td>5.789110</td>\n",
       "    </tr>\n",
       "    <tr>\n",
       "      <th>gen_model_3_1_59.h5</th>\n",
       "      <td>2.139140</td>\n",
       "      <td>4.051007</td>\n",
       "    </tr>\n",
       "    <tr>\n",
       "      <th>gen_model_3_1_74.h5</th>\n",
       "      <td>1.311783</td>\n",
       "      <td>3.349333</td>\n",
       "    </tr>\n",
       "    <tr>\n",
       "      <th>gen_model_3_1_89.h5</th>\n",
       "      <td>1.965841</td>\n",
       "      <td>6.040189</td>\n",
       "    </tr>\n",
       "    <tr>\n",
       "      <th>gen_model_3_1_104.h5</th>\n",
       "      <td>1.273091</td>\n",
       "      <td>3.890566</td>\n",
       "    </tr>\n",
       "    <tr>\n",
       "      <th>gen_model_3_1_119.h5</th>\n",
       "      <td>1.272334</td>\n",
       "      <td>3.014373</td>\n",
       "    </tr>\n",
       "    <tr>\n",
       "      <th>gen_model_3_1_134.h5</th>\n",
       "      <td>3.104836</td>\n",
       "      <td>3.032269</td>\n",
       "    </tr>\n",
       "    <tr>\n",
       "      <th>gen_model_3_1_149.h5</th>\n",
       "      <td>1.773502</td>\n",
       "      <td>3.039657</td>\n",
       "    </tr>\n",
       "    <tr>\n",
       "      <th>gen_model_3_1_164.h5</th>\n",
       "      <td>2.853523</td>\n",
       "      <td>3.466860</td>\n",
       "    </tr>\n",
       "  </tbody>\n",
       "</table>\n",
       "</div>"
      ],
      "text/plain": [
       "                        Training     Testing\n",
       "gen_model_3_1_14.h5   525.139639  177.319404\n",
       "gen_model_3_1_29.h5    14.145345    7.334568\n",
       "gen_model_3_1_44.h5     1.797393    5.789110\n",
       "gen_model_3_1_59.h5     2.139140    4.051007\n",
       "gen_model_3_1_74.h5     1.311783    3.349333\n",
       "gen_model_3_1_89.h5     1.965841    6.040189\n",
       "gen_model_3_1_104.h5    1.273091    3.890566\n",
       "gen_model_3_1_119.h5    1.272334    3.014373\n",
       "gen_model_3_1_134.h5    3.104836    3.032269\n",
       "gen_model_3_1_149.h5    1.773502    3.039657\n",
       "gen_model_3_1_164.h5    2.853523    3.466860"
      ]
     },
     "metadata": {},
     "output_type": "display_data"
    }
   ],
   "source": [
    "RMSE_data = {'Training' : pd.Series(RMSE_training).values, 'Testing' : pd.Series(RMSE_testing).values}\n",
    "RMSE_index = pd.Series(RMSE_testing).index\n",
    "RMSE_all_model = pd.DataFrame(RMSE_data, RMSE_index)\n",
    "display(RMSE_all_model)"
   ]
  },
  {
   "cell_type": "code",
   "execution_count": 41,
   "metadata": {},
   "outputs": [
    {
     "data": {
      "image/png": "[encoded data removed]",
      "text/plain": [
       "<Figure size 1200x400 with 1 Axes>"
      ]
     },
     "metadata": {},
     "output_type": "display_data"
    }
   ],
   "source": [
    "RMSE_all_model[['Training','Testing']].iloc[2:,:].plot(figsize = (12,4))\n",
    "plt.xticks(rotation=90)\n",
    "plt.grid(True)\n",
    "plt.show()\n"
   ]
  },
  {
   "cell_type": "markdown",
   "metadata": {},
   "source": [
    "### 7.) Visualize training set of model having epoch = 120"
   ]
  },
  {
   "cell_type": "code",
   "execution_count": 52,
   "metadata": {},
   "outputs": [
    {
     "name": "stdout",
     "output_type": "stream",
     "text": [
      "WARNING:tensorflow:No training configuration found in the save file, so the model was *not* compiled. Compile it manually.\n"
     ]
    },
    {
     "data": {
      "image/png": "[encoded data removed]",
      "text/plain": [
       "<Figure size 1600x800 with 1 Axes>"
      ]
     },
     "metadata": {},
     "output_type": "display_data"
    },
    {
     "name": "stdout",
     "output_type": "stream",
     "text": [
      "-- RMSE --  1.2723341088014704\n",
      "-- MAE -- 0.9515220432893498\n",
      "-- MAPE -- 0.019404412181596494\n",
      "-- MSLE -- 0.0006287480839671952\n",
      "--R2 -- 0.9930464645084807\n"
     ]
    },
    {
     "data": {
      "text/plain": [
       "<Figure size 640x480 with 0 Axes>"
      ]
     },
     "metadata": {},
     "output_type": "display_data"
    }
   ],
   "source": [
    "import time\n",
    "import os\n",
    "import pandas as pd\n",
    "import matplotlib.pyplot as plt\n",
    "import tensorflow as tf\n",
    "import numpy as np\n",
    "#from main.feature import get_all_features\n",
    "from tensorflow.keras.layers import GRU, LSTM, Bidirectional, Dense, Flatten, Conv1D, BatchNormalization, LeakyReLU, Dropout\n",
    "from tensorflow.keras import Sequential\n",
    "from pickle import load\n",
    "from sklearn.metrics import mean_squared_error\n",
    "\n",
    "from sklearn.metrics import mean_absolute_error, mean_squared_log_error, r2_score, mean_absolute_percentage_error\n",
    "\n",
    "# def mean_absolute_percentage_error(actual, predicted):\n",
    "#     actual, predicted = np.array(actual), np.array(predicted)\n",
    "#     nonzero_elements = actual != 0\n",
    "#     mape = np.mean(np.abs((actual - predicted) / actual[nonzero_elements])) * 100\n",
    "#     return mape\n",
    "\n",
    "# Load scaler/ index\n",
    "X_scaler = load(open('X_scaler.pkl', 'rb'))\n",
    "y_scaler = load(open('y_scaler.pkl', 'rb'))\n",
    "train_predict_index = np.load(\"index_train.npy\", allow_pickle=True)\n",
    "test_predict_index = np.load(\"index_test.npy\", allow_pickle=True)\n",
    "\n",
    "# Load test dataset/ model\n",
    "G_model = tf.keras.models.load_model('gen_model_3_1_119.h5')\n",
    "X_test = np.load(\"X_train.npy\", allow_pickle=True)\n",
    "y_test = np.load(\"y_train.npy\", allow_pickle=True)\n",
    "\n",
    "\n",
    "def get_test_plot(X_test, y_test):\n",
    "    # Set output steps\n",
    "    output_dim = y_test.shape[1]\n",
    "\n",
    "    # Get predicted data\n",
    "    y_predicted = G_model(X_test)\n",
    "    rescaled_real_y = y_scaler.inverse_transform(y_test)\n",
    "    rescaled_predicted_y = y_scaler.inverse_transform(y_predicted)\n",
    "\n",
    "    ## Predicted price\n",
    "    predict_result = pd.DataFrame()\n",
    "    for i in range(rescaled_predicted_y.shape[0]):\n",
    "        y_predict = pd.DataFrame(rescaled_predicted_y[i], columns=[\"predicted_price\"],\n",
    "                                 index=train_predict_index[i:i + output_dim])\n",
    "        predict_result = pd.concat([predict_result, y_predict], axis=1, sort=False)\n",
    "\n",
    "    ## Real price\n",
    "    real_price = pd.DataFrame()\n",
    "    for i in range(rescaled_real_y.shape[0]):\n",
    "        y_train = pd.DataFrame(rescaled_real_y[i], columns=[\"real_price\"], index=train_predict_index[i:i + output_dim])\n",
    "        real_price = pd.concat([real_price, y_train], axis=1, sort=False)\n",
    "\n",
    "    predict_result['predicted_mean'] = predict_result.mean(axis=1)\n",
    "    real_price['real_mean'] = real_price.mean(axis=1)\n",
    "\n",
    "    #drop 2020\n",
    "    # Input_Before = '2020-01-01'\n",
    "    # predict_result = predict_result.loc[predict_result.index < Input_Before]\n",
    "    # real_price = real_price.loc[real_price.index < Input_Before]\n",
    "\n",
    "    # Plot the predicted result\n",
    "    plt.figure(figsize=(16, 8))\n",
    "    plt.plot(real_price[\"real_mean\"])\n",
    "    plt.plot(predict_result[\"predicted_mean\"], color='r')\n",
    "    plt.xlabel(\"Date\")\n",
    "    plt.ylabel(\"Stock price\")\n",
    "    plt.legend((\"Real price\", \"Predicted price\"), loc=\"upper left\", fontsize=16)\n",
    "    plt.title(\"The result of test\", fontsize=20)\n",
    "    plt.show()\n",
    "    plt.savefig('test_plot.png')\n",
    "    # Calculate RMSE\n",
    "    predicted = predict_result[\"predicted_mean\"]\n",
    "    real = real_price[\"real_mean\"]\n",
    "    For_MSE = pd.concat([predicted, real], axis=1)\n",
    "    RMSE = np.sqrt(mean_squared_error(predicted, real))\n",
    "    MAE = mean_absolute_error(real, predicted)\n",
    "    MAPE = mean_absolute_percentage_error(real, predicted)\n",
    "    MSLE = mean_squared_log_error(real, predicted)\n",
    "    r2 = r2_score(real, predicted)\n",
    "    print('-- RMSE -- ', RMSE)\n",
    "    print('-- MAE --', MAE)\n",
    "    print('-- MAPE --', MAPE)\n",
    "    print('-- MSLE --', MSLE)\n",
    "    print('--R2 --', r2)\n",
    "    return predict_result, RMSE\n",
    "\n",
    "\n",
    "train_predicted, test_RMSE = get_test_plot(X_test, y_test)"
   ]
  },
  {
   "cell_type": "markdown",
   "metadata": {},
   "source": [
    "### 8.) Visualize testing set of model having epoch = 120"
   ]
  },
  {
   "cell_type": "code",
   "execution_count": 56,
   "metadata": {},
   "outputs": [
    {
     "name": "stdout",
     "output_type": "stream",
     "text": [
      "WARNING:tensorflow:No training configuration found in the save file, so the model was *not* compiled. Compile it manually.\n"
     ]
    },
    {
     "data": {
      "image/png": "[encoded data removed]",
      "text/plain": [
       "<Figure size 1600x800 with 1 Axes>"
      ]
     },
     "metadata": {},
     "output_type": "display_data"
    },
    {
     "name": "stdout",
     "output_type": "stream",
     "text": [
      "-- RMSE --  3.0143729279591334\n",
      "-- MAE -- 2.203225902131978\n",
      "-- MAPE -- 0.024957302356494945\n",
      "-- MSLE -- 0.0012699153155134458\n",
      "--R2 -- 0.961814403559674\n"
     ]
    },
    {
     "data": {
      "text/plain": [
       "<Figure size 640x480 with 0 Axes>"
      ]
     },
     "metadata": {},
     "output_type": "display_data"
    }
   ],
   "source": [
    "# Load scaler/ index\n",
    "from sklearn.metrics import mean_absolute_error, mean_squared_log_error, r2_score, mean_absolute_percentage_error\n",
    "\n",
    "# def mean_absolute_percentage_error(actual, predicted):\n",
    "#     actual, predicted = np.array(actual), np.array(predicted)\n",
    "#     nonzero_elements = actual != 0\n",
    "#     mape = np.mean(np.abs((actual - predicted) / actual[nonzero_elements])) * 100\n",
    "#     return mape\n",
    "\n",
    "X_scaler = load(open('X_scaler.pkl', 'rb'))\n",
    "y_scaler = load(open('y_scaler.pkl', 'rb'))\n",
    "train_predict_index = np.load(\"index_train.npy\", allow_pickle=True)\n",
    "test_predict_index = np.load(\"index_test.npy\", allow_pickle=True)\n",
    "\n",
    "# Load test dataset/ model\n",
    "G_model = tf.keras.models.load_model('gen_model_3_1_119.h5')\n",
    "X_test = np.load(\"X_test.npy\", allow_pickle=True)\n",
    "y_test = np.load(\"y_test.npy\", allow_pickle=True)\n",
    "\n",
    "\n",
    "def get_test_plot(X_test, y_test):\n",
    "    # Set output steps\n",
    "    output_dim = y_test.shape[1]\n",
    "\n",
    "    # Get predicted data\n",
    "    y_predicted = G_model(X_test)\n",
    "    rescaled_real_y = y_scaler.inverse_transform(y_test)\n",
    "    rescaled_predicted_y = y_scaler.inverse_transform(y_predicted)\n",
    "\n",
    "    ## Predicted price\n",
    "    predict_result = pd.DataFrame()\n",
    "    for i in range(rescaled_predicted_y.shape[0]):\n",
    "        y_predict = pd.DataFrame(rescaled_predicted_y[i], columns=[\"predicted_price\"],\n",
    "                                 index=test_predict_index[i:i + output_dim])\n",
    "        predict_result = pd.concat([predict_result, y_predict], axis=1, sort=False)\n",
    "\n",
    "    ## Real price\n",
    "    real_price = pd.DataFrame()\n",
    "    for i in range(rescaled_real_y.shape[0]):\n",
    "        y_train = pd.DataFrame(rescaled_real_y[i], columns=[\"real_price\"], index=test_predict_index[i:i + output_dim])\n",
    "        real_price = pd.concat([real_price, y_train], axis=1, sort=False)\n",
    "\n",
    "    predict_result['predicted_mean'] = predict_result.mean(axis=1)\n",
    "    real_price['real_mean'] = real_price.mean(axis=1)\n",
    "\n",
    "    #drop 2020\n",
    "    # Input_Before = '2020-01-01'\n",
    "    # predict_result = predict_result.loc[predict_result.index < Input_Before]\n",
    "    # real_price = real_price.loc[real_price.index < Input_Before]\n",
    "\n",
    "    # Plot the predicted result\n",
    "    plt.figure(figsize=(16, 8))\n",
    "    plt.plot(real_price[\"real_mean\"])\n",
    "    plt.plot(predict_result[\"predicted_mean\"], color='r')\n",
    "    plt.xlabel(\"Date\")\n",
    "    plt.ylabel(\"Stock price\")\n",
    "    plt.legend((\"Real price\", \"Predicted price\"), loc=\"upper left\", fontsize=16)\n",
    "    plt.title(\"The result of test\", fontsize=20)\n",
    "    plt.show()\n",
    "    plt.savefig('test_plot.png')\n",
    "    # Calculate RMSE\n",
    "    predicted = predict_result[\"predicted_mean\"]\n",
    "    real = real_price[\"real_mean\"]\n",
    "    For_MSE = pd.concat([predicted, real], axis=1)\n",
    "    RMSE = np.sqrt(mean_squared_error(predicted, real))\n",
    "    MAE = mean_absolute_error(real, predicted)\n",
    "    MAPE = mean_absolute_percentage_error(real, predicted)\n",
    "    MSLE = mean_squared_log_error(real, predicted)\n",
    "    r2 = r2_score(real, predicted)\n",
    "    print('-- RMSE -- ', RMSE)\n",
    "    print('-- MAE --', MAE)\n",
    "    print('-- MAPE --', MAPE)\n",
    "    print('-- MSLE --', MSLE)\n",
    "    print('--R2 --', r2)\n",
    "\n",
    "    return predict_result, RMSE\n",
    "\n",
    "\n",
    "test_predicted, test_RMSE = get_test_plot(X_test, y_test)\n",
    "test_predicted.to_csv(\"test_predicted_final.csv\")"
   ]
  },
  {
   "cell_type": "markdown",
   "metadata": {},
   "source": [
    "### 9.) Constructing Trading Strategy"
   ]
  },
  {
   "cell_type": "code",
   "execution_count": 116,
   "metadata": {},
   "outputs": [
    {
     "data": {
      "text/html": [
       "<div>\n",
       "<style scoped>\n",
       "    .dataframe tbody tr th:only-of-type {\n",
       "        vertical-align: middle;\n",
       "    }\n",
       "\n",
       "    .dataframe tbody tr th {\n",
       "        vertical-align: top;\n",
       "    }\n",
       "\n",
       "    .dataframe thead th {\n",
       "        text-align: right;\n",
       "    }\n",
       "</style>\n",
       "<table border=\"1\" class=\"dataframe\">\n",
       "  <thead>\n",
       "    <tr style=\"text-align: right;\">\n",
       "      <th></th>\n",
       "      <th>predicted_price</th>\n",
       "    </tr>\n",
       "  </thead>\n",
       "  <tbody>\n",
       "    <tr>\n",
       "      <th>2013-01-07</th>\n",
       "      <td>30.380041</td>\n",
       "    </tr>\n",
       "    <tr>\n",
       "      <th>2013-01-08</th>\n",
       "      <td>30.451120</td>\n",
       "    </tr>\n",
       "    <tr>\n",
       "      <th>2013-01-09</th>\n",
       "      <td>30.390572</td>\n",
       "    </tr>\n",
       "  </tbody>\n",
       "</table>\n",
       "</div>"
      ],
      "text/plain": [
       "            predicted_price\n",
       "2013-01-07        30.380041\n",
       "2013-01-08        30.451120\n",
       "2013-01-09        30.390572"
      ]
     },
     "metadata": {},
     "output_type": "display_data"
    },
    {
     "data": {
      "text/html": [
       "<div>\n",
       "<style scoped>\n",
       "    .dataframe tbody tr th:only-of-type {\n",
       "        vertical-align: middle;\n",
       "    }\n",
       "\n",
       "    .dataframe tbody tr th {\n",
       "        vertical-align: top;\n",
       "    }\n",
       "\n",
       "    .dataframe thead th {\n",
       "        text-align: right;\n",
       "    }\n",
       "</style>\n",
       "<table border=\"1\" class=\"dataframe\">\n",
       "  <thead>\n",
       "    <tr style=\"text-align: right;\">\n",
       "      <th></th>\n",
       "      <th>predicted_price</th>\n",
       "    </tr>\n",
       "  </thead>\n",
       "  <tbody>\n",
       "    <tr>\n",
       "      <th>2019-12-26</th>\n",
       "      <td>88.625024</td>\n",
       "    </tr>\n",
       "    <tr>\n",
       "      <th>2019-12-27</th>\n",
       "      <td>88.824046</td>\n",
       "    </tr>\n",
       "    <tr>\n",
       "      <th>2019-12-30</th>\n",
       "      <td>88.991916</td>\n",
       "    </tr>\n",
       "  </tbody>\n",
       "</table>\n",
       "</div>"
      ],
      "text/plain": [
       "            predicted_price\n",
       "2019-12-26        88.625024\n",
       "2019-12-27        88.824046\n",
       "2019-12-30        88.991916"
      ]
     },
     "metadata": {},
     "output_type": "display_data"
    }
   ],
   "source": [
    "# 9.1) create the training set's predicted price dataframe\n",
    "\n",
    "train_predicted_price = pd.DataFrame(train_predicted.iloc[:,-1])\n",
    "train_predicted_price.rename(columns={'predicted_mean':'predicted_price'},inplace=True)\n",
    "display(train_predicted_price.head(3))\n",
    "display(train_predicted_price.tail(3))"
   ]
  },
  {
   "cell_type": "code",
   "execution_count": 117,
   "metadata": {},
   "outputs": [
    {
     "data": {
      "text/html": [
       "<div>\n",
       "<style scoped>\n",
       "    .dataframe tbody tr th:only-of-type {\n",
       "        vertical-align: middle;\n",
       "    }\n",
       "\n",
       "    .dataframe tbody tr th {\n",
       "        vertical-align: top;\n",
       "    }\n",
       "\n",
       "    .dataframe thead th {\n",
       "        text-align: right;\n",
       "    }\n",
       "</style>\n",
       "<table border=\"1\" class=\"dataframe\">\n",
       "  <thead>\n",
       "    <tr style=\"text-align: right;\">\n",
       "      <th></th>\n",
       "      <th>predicted_price</th>\n",
       "    </tr>\n",
       "  </thead>\n",
       "  <tbody>\n",
       "    <tr>\n",
       "      <th>2019-12-31</th>\n",
       "      <td>88.483966</td>\n",
       "    </tr>\n",
       "    <tr>\n",
       "      <th>2020-01-02</th>\n",
       "      <td>88.407876</td>\n",
       "    </tr>\n",
       "    <tr>\n",
       "      <th>2020-01-03</th>\n",
       "      <td>88.908201</td>\n",
       "    </tr>\n",
       "  </tbody>\n",
       "</table>\n",
       "</div>"
      ],
      "text/plain": [
       "            predicted_price\n",
       "2019-12-31        88.483966\n",
       "2020-01-02        88.407876\n",
       "2020-01-03        88.908201"
      ]
     },
     "metadata": {},
     "output_type": "display_data"
    },
    {
     "data": {
      "text/html": [
       "<div>\n",
       "<style scoped>\n",
       "    .dataframe tbody tr th:only-of-type {\n",
       "        vertical-align: middle;\n",
       "    }\n",
       "\n",
       "    .dataframe tbody tr th {\n",
       "        vertical-align: top;\n",
       "    }\n",
       "\n",
       "    .dataframe thead th {\n",
       "        text-align: right;\n",
       "    }\n",
       "</style>\n",
       "<table border=\"1\" class=\"dataframe\">\n",
       "  <thead>\n",
       "    <tr style=\"text-align: right;\">\n",
       "      <th></th>\n",
       "      <th>predicted_price</th>\n",
       "    </tr>\n",
       "  </thead>\n",
       "  <tbody>\n",
       "    <tr>\n",
       "      <th>2022-12-28</th>\n",
       "      <td>98.857334</td>\n",
       "    </tr>\n",
       "    <tr>\n",
       "      <th>2022-12-29</th>\n",
       "      <td>99.148055</td>\n",
       "    </tr>\n",
       "    <tr>\n",
       "      <th>2022-12-30</th>\n",
       "      <td>99.095950</td>\n",
       "    </tr>\n",
       "  </tbody>\n",
       "</table>\n",
       "</div>"
      ],
      "text/plain": [
       "            predicted_price\n",
       "2022-12-28        98.857334\n",
       "2022-12-29        99.148055\n",
       "2022-12-30        99.095950"
      ]
     },
     "metadata": {},
     "output_type": "display_data"
    }
   ],
   "source": [
    "# 9.2) create the testing set's predicted price dataframe\n",
    "\n",
    "test_predicted_price = pd.DataFrame(test_predicted.iloc[:,-1])\n",
    "test_predicted_price.rename(columns={'predicted_mean':'predicted_price'},inplace=True)\n",
    "display(test_predicted_price.head(3))\n",
    "display(test_predicted_price.tail(3))"
   ]
  },
  {
   "cell_type": "code",
   "execution_count": 118,
   "metadata": {},
   "outputs": [
    {
     "name": "stdout",
     "output_type": "stream",
     "text": [
      "for training :\n"
     ]
    },
    {
     "data": {
      "text/html": [
       "<div>\n",
       "<style scoped>\n",
       "    .dataframe tbody tr th:only-of-type {\n",
       "        vertical-align: middle;\n",
       "    }\n",
       "\n",
       "    .dataframe tbody tr th {\n",
       "        vertical-align: top;\n",
       "    }\n",
       "\n",
       "    .dataframe thead th {\n",
       "        text-align: right;\n",
       "    }\n",
       "</style>\n",
       "<table border=\"1\" class=\"dataframe\">\n",
       "  <thead>\n",
       "    <tr style=\"text-align: right;\">\n",
       "      <th></th>\n",
       "      <th>Close</th>\n",
       "      <th>predicted_price</th>\n",
       "    </tr>\n",
       "    <tr>\n",
       "      <th>Date</th>\n",
       "      <th></th>\n",
       "      <th></th>\n",
       "    </tr>\n",
       "  </thead>\n",
       "  <tbody>\n",
       "    <tr>\n",
       "      <th>2013-01-07</th>\n",
       "      <td>27.860001</td>\n",
       "      <td>30.380041</td>\n",
       "    </tr>\n",
       "    <tr>\n",
       "      <th>2013-01-08</th>\n",
       "      <td>27.809999</td>\n",
       "      <td>30.451120</td>\n",
       "    </tr>\n",
       "    <tr>\n",
       "      <th>2013-01-09</th>\n",
       "      <td>27.315001</td>\n",
       "      <td>30.390572</td>\n",
       "    </tr>\n",
       "  </tbody>\n",
       "</table>\n",
       "</div>"
      ],
      "text/plain": [
       "                Close  predicted_price\n",
       "Date                                  \n",
       "2013-01-07  27.860001        30.380041\n",
       "2013-01-08  27.809999        30.451120\n",
       "2013-01-09  27.315001        30.390572"
      ]
     },
     "metadata": {},
     "output_type": "display_data"
    },
    {
     "data": {
      "text/html": [
       "<div>\n",
       "<style scoped>\n",
       "    .dataframe tbody tr th:only-of-type {\n",
       "        vertical-align: middle;\n",
       "    }\n",
       "\n",
       "    .dataframe tbody tr th {\n",
       "        vertical-align: top;\n",
       "    }\n",
       "\n",
       "    .dataframe thead th {\n",
       "        text-align: right;\n",
       "    }\n",
       "</style>\n",
       "<table border=\"1\" class=\"dataframe\">\n",
       "  <thead>\n",
       "    <tr style=\"text-align: right;\">\n",
       "      <th></th>\n",
       "      <th>Close</th>\n",
       "      <th>predicted_price</th>\n",
       "    </tr>\n",
       "    <tr>\n",
       "      <th>Date</th>\n",
       "      <th></th>\n",
       "      <th></th>\n",
       "    </tr>\n",
       "  </thead>\n",
       "  <tbody>\n",
       "    <tr>\n",
       "      <th>2019-12-26</th>\n",
       "      <td>88.080002</td>\n",
       "      <td>88.625024</td>\n",
       "    </tr>\n",
       "    <tr>\n",
       "      <th>2019-12-27</th>\n",
       "      <td>88.129997</td>\n",
       "      <td>88.824046</td>\n",
       "    </tr>\n",
       "    <tr>\n",
       "      <th>2019-12-30</th>\n",
       "      <td>87.440002</td>\n",
       "      <td>88.991916</td>\n",
       "    </tr>\n",
       "  </tbody>\n",
       "</table>\n",
       "</div>"
      ],
      "text/plain": [
       "                Close  predicted_price\n",
       "Date                                  \n",
       "2019-12-26  88.080002        88.625024\n",
       "2019-12-27  88.129997        88.824046\n",
       "2019-12-30  87.440002        88.991916"
      ]
     },
     "metadata": {},
     "output_type": "display_data"
    },
    {
     "name": "stdout",
     "output_type": "stream",
     "text": [
      "for testing :\n"
     ]
    },
    {
     "data": {
      "text/html": [
       "<div>\n",
       "<style scoped>\n",
       "    .dataframe tbody tr th:only-of-type {\n",
       "        vertical-align: middle;\n",
       "    }\n",
       "\n",
       "    .dataframe tbody tr th {\n",
       "        vertical-align: top;\n",
       "    }\n",
       "\n",
       "    .dataframe thead th {\n",
       "        text-align: right;\n",
       "    }\n",
       "</style>\n",
       "<table border=\"1\" class=\"dataframe\">\n",
       "  <thead>\n",
       "    <tr style=\"text-align: right;\">\n",
       "      <th></th>\n",
       "      <th>Close</th>\n",
       "      <th>predicted_price</th>\n",
       "    </tr>\n",
       "    <tr>\n",
       "      <th>Date</th>\n",
       "      <th></th>\n",
       "      <th></th>\n",
       "    </tr>\n",
       "  </thead>\n",
       "  <tbody>\n",
       "    <tr>\n",
       "      <th>2019-12-31</th>\n",
       "      <td>87.919998</td>\n",
       "      <td>88.483966</td>\n",
       "    </tr>\n",
       "    <tr>\n",
       "      <th>2020-01-02</th>\n",
       "      <td>89.349998</td>\n",
       "      <td>88.407876</td>\n",
       "    </tr>\n",
       "    <tr>\n",
       "      <th>2020-01-03</th>\n",
       "      <td>88.830002</td>\n",
       "      <td>88.908201</td>\n",
       "    </tr>\n",
       "  </tbody>\n",
       "</table>\n",
       "</div>"
      ],
      "text/plain": [
       "                Close  predicted_price\n",
       "Date                                  \n",
       "2019-12-31  87.919998        88.483966\n",
       "2020-01-02  89.349998        88.407876\n",
       "2020-01-03  88.830002        88.908201"
      ]
     },
     "metadata": {},
     "output_type": "display_data"
    },
    {
     "data": {
      "text/html": [
       "<div>\n",
       "<style scoped>\n",
       "    .dataframe tbody tr th:only-of-type {\n",
       "        vertical-align: middle;\n",
       "    }\n",
       "\n",
       "    .dataframe tbody tr th {\n",
       "        vertical-align: top;\n",
       "    }\n",
       "\n",
       "    .dataframe thead th {\n",
       "        text-align: right;\n",
       "    }\n",
       "</style>\n",
       "<table border=\"1\" class=\"dataframe\">\n",
       "  <thead>\n",
       "    <tr style=\"text-align: right;\">\n",
       "      <th></th>\n",
       "      <th>Close</th>\n",
       "      <th>predicted_price</th>\n",
       "    </tr>\n",
       "    <tr>\n",
       "      <th>Date</th>\n",
       "      <th></th>\n",
       "      <th></th>\n",
       "    </tr>\n",
       "  </thead>\n",
       "  <tbody>\n",
       "    <tr>\n",
       "      <th>2022-12-28</th>\n",
       "      <td>98.599998</td>\n",
       "      <td>98.857334</td>\n",
       "    </tr>\n",
       "    <tr>\n",
       "      <th>2022-12-29</th>\n",
       "      <td>99.769997</td>\n",
       "      <td>99.148055</td>\n",
       "    </tr>\n",
       "    <tr>\n",
       "      <th>2022-12-30</th>\n",
       "      <td>99.199997</td>\n",
       "      <td>99.095950</td>\n",
       "    </tr>\n",
       "  </tbody>\n",
       "</table>\n",
       "</div>"
      ],
      "text/plain": [
       "                Close  predicted_price\n",
       "Date                                  \n",
       "2022-12-28  98.599998        98.857334\n",
       "2022-12-29  99.769997        99.148055\n",
       "2022-12-30  99.199997        99.095950"
      ]
     },
     "metadata": {},
     "output_type": "display_data"
    }
   ],
   "source": [
    "# 9.3 create dataframe for constructing strategy\n",
    "\n",
    "training_strategy = pd.DataFrame(starbuck_fin['Close'].filter(items = index_train, axis = 0))\n",
    "print('for training :')\n",
    "training_strategy['predicted_price'] = train_predicted_price.values\n",
    "display(training_strategy.head(3))\n",
    "display(training_strategy.tail(3))\n",
    "\n",
    "testing_strategy = pd.DataFrame(starbuck_fin['Close'].filter(items = index_test, axis = 0))\n",
    "print('for testing :')\n",
    "testing_strategy['predicted_price'] = test_predicted_price.values\n",
    "display(testing_strategy.head(3))\n",
    "display(testing_strategy.tail(3))"
   ]
  },
  {
   "cell_type": "code",
   "execution_count": 119,
   "metadata": {},
   "outputs": [],
   "source": [
    "# 9.4 calculate normal return and log return of SBUX\n",
    "\n",
    "def calculate_returns(df):\n",
    "    df['normal_return'] = df['Close'].pct_change()\n",
    "    df['log_return'] = np.log(df['Close'] / df['Close'].shift(1))\n",
    "    df['cumulative_return'] = df[['log_return']].cumsum().apply(np.exp)\n",
    "    return df\n",
    "\n",
    "training_strategy = calculate_returns(training_strategy)\n",
    "testing_strategy = calculate_returns(testing_strategy)\n"
   ]
  },
  {
   "cell_type": "code",
   "execution_count": 120,
   "metadata": {},
   "outputs": [
    {
     "data": {
      "text/html": [
       "<div>\n",
       "<style scoped>\n",
       "    .dataframe tbody tr th:only-of-type {\n",
       "        vertical-align: middle;\n",
       "    }\n",
       "\n",
       "    .dataframe tbody tr th {\n",
       "        vertical-align: top;\n",
       "    }\n",
       "\n",
       "    .dataframe thead th {\n",
       "        text-align: right;\n",
       "    }\n",
       "</style>\n",
       "<table border=\"1\" class=\"dataframe\">\n",
       "  <thead>\n",
       "    <tr style=\"text-align: right;\">\n",
       "      <th></th>\n",
       "      <th>Close</th>\n",
       "      <th>predicted_price</th>\n",
       "      <th>normal_return</th>\n",
       "      <th>log_return</th>\n",
       "      <th>cumulative_return</th>\n",
       "    </tr>\n",
       "    <tr>\n",
       "      <th>Date</th>\n",
       "      <th></th>\n",
       "      <th></th>\n",
       "      <th></th>\n",
       "      <th></th>\n",
       "      <th></th>\n",
       "    </tr>\n",
       "  </thead>\n",
       "  <tbody>\n",
       "    <tr>\n",
       "      <th>2013-01-07</th>\n",
       "      <td>27.860001</td>\n",
       "      <td>30.380041</td>\n",
       "      <td>NaN</td>\n",
       "      <td>NaN</td>\n",
       "      <td>NaN</td>\n",
       "    </tr>\n",
       "    <tr>\n",
       "      <th>2013-01-08</th>\n",
       "      <td>27.809999</td>\n",
       "      <td>30.451120</td>\n",
       "      <td>-0.001795</td>\n",
       "      <td>-0.001796</td>\n",
       "      <td>0.998205</td>\n",
       "    </tr>\n",
       "    <tr>\n",
       "      <th>2013-01-09</th>\n",
       "      <td>27.315001</td>\n",
       "      <td>30.390572</td>\n",
       "      <td>-0.017799</td>\n",
       "      <td>-0.017960</td>\n",
       "      <td>0.980438</td>\n",
       "    </tr>\n",
       "    <tr>\n",
       "      <th>2013-01-10</th>\n",
       "      <td>27.270000</td>\n",
       "      <td>29.717153</td>\n",
       "      <td>-0.001647</td>\n",
       "      <td>-0.001649</td>\n",
       "      <td>0.978823</td>\n",
       "    </tr>\n",
       "    <tr>\n",
       "      <th>2013-01-11</th>\n",
       "      <td>27.504999</td>\n",
       "      <td>28.475387</td>\n",
       "      <td>0.008617</td>\n",
       "      <td>0.008581</td>\n",
       "      <td>0.987258</td>\n",
       "    </tr>\n",
       "  </tbody>\n",
       "</table>\n",
       "</div>"
      ],
      "text/plain": [
       "                Close  predicted_price  normal_return  log_return  \\\n",
       "Date                                                                \n",
       "2013-01-07  27.860001        30.380041            NaN         NaN   \n",
       "2013-01-08  27.809999        30.451120      -0.001795   -0.001796   \n",
       "2013-01-09  27.315001        30.390572      -0.017799   -0.017960   \n",
       "2013-01-10  27.270000        29.717153      -0.001647   -0.001649   \n",
       "2013-01-11  27.504999        28.475387       0.008617    0.008581   \n",
       "\n",
       "            cumulative_return  \n",
       "Date                           \n",
       "2013-01-07                NaN  \n",
       "2013-01-08           0.998205  \n",
       "2013-01-09           0.980438  \n",
       "2013-01-10           0.978823  \n",
       "2013-01-11           0.987258  "
      ]
     },
     "metadata": {},
     "output_type": "display_data"
    },
    {
     "data": {
      "text/html": [
       "<div>\n",
       "<style scoped>\n",
       "    .dataframe tbody tr th:only-of-type {\n",
       "        vertical-align: middle;\n",
       "    }\n",
       "\n",
       "    .dataframe tbody tr th {\n",
       "        vertical-align: top;\n",
       "    }\n",
       "\n",
       "    .dataframe thead th {\n",
       "        text-align: right;\n",
       "    }\n",
       "</style>\n",
       "<table border=\"1\" class=\"dataframe\">\n",
       "  <thead>\n",
       "    <tr style=\"text-align: right;\">\n",
       "      <th></th>\n",
       "      <th>Close</th>\n",
       "      <th>predicted_price</th>\n",
       "      <th>normal_return</th>\n",
       "      <th>log_return</th>\n",
       "      <th>cumulative_return</th>\n",
       "    </tr>\n",
       "    <tr>\n",
       "      <th>Date</th>\n",
       "      <th></th>\n",
       "      <th></th>\n",
       "      <th></th>\n",
       "      <th></th>\n",
       "      <th></th>\n",
       "    </tr>\n",
       "  </thead>\n",
       "  <tbody>\n",
       "    <tr>\n",
       "      <th>2019-12-31</th>\n",
       "      <td>87.919998</td>\n",
       "      <td>88.483966</td>\n",
       "      <td>NaN</td>\n",
       "      <td>NaN</td>\n",
       "      <td>NaN</td>\n",
       "    </tr>\n",
       "    <tr>\n",
       "      <th>2020-01-02</th>\n",
       "      <td>89.349998</td>\n",
       "      <td>88.407876</td>\n",
       "      <td>0.016265</td>\n",
       "      <td>0.016134</td>\n",
       "      <td>1.016265</td>\n",
       "    </tr>\n",
       "    <tr>\n",
       "      <th>2020-01-03</th>\n",
       "      <td>88.830002</td>\n",
       "      <td>88.908201</td>\n",
       "      <td>-0.005820</td>\n",
       "      <td>-0.005837</td>\n",
       "      <td>1.010350</td>\n",
       "    </tr>\n",
       "    <tr>\n",
       "      <th>2020-01-06</th>\n",
       "      <td>88.129997</td>\n",
       "      <td>89.061439</td>\n",
       "      <td>-0.007880</td>\n",
       "      <td>-0.007911</td>\n",
       "      <td>1.002389</td>\n",
       "    </tr>\n",
       "    <tr>\n",
       "      <th>2020-01-07</th>\n",
       "      <td>87.860001</td>\n",
       "      <td>88.495842</td>\n",
       "      <td>-0.003064</td>\n",
       "      <td>-0.003068</td>\n",
       "      <td>0.999318</td>\n",
       "    </tr>\n",
       "  </tbody>\n",
       "</table>\n",
       "</div>"
      ],
      "text/plain": [
       "                Close  predicted_price  normal_return  log_return  \\\n",
       "Date                                                                \n",
       "2019-12-31  87.919998        88.483966            NaN         NaN   \n",
       "2020-01-02  89.349998        88.407876       0.016265    0.016134   \n",
       "2020-01-03  88.830002        88.908201      -0.005820   -0.005837   \n",
       "2020-01-06  88.129997        89.061439      -0.007880   -0.007911   \n",
       "2020-01-07  87.860001        88.495842      -0.003064   -0.003068   \n",
       "\n",
       "            cumulative_return  \n",
       "Date                           \n",
       "2019-12-31                NaN  \n",
       "2020-01-02           1.016265  \n",
       "2020-01-03           1.010350  \n",
       "2020-01-06           1.002389  \n",
       "2020-01-07           0.999318  "
      ]
     },
     "metadata": {},
     "output_type": "display_data"
    }
   ],
   "source": [
    "# 9.5 display the final dataframes\n",
    "\n",
    "display(training_strategy.head())\n",
    "display(testing_strategy.head())"
   ]
  },
  {
   "cell_type": "markdown",
   "metadata": {},
   "source": [
    "> <b>9.6) Naive condition</b>\\\n",
    "> Long : The predicted price is higher than the closing price of today\\\n",
    "> Short : The predicted price is lower than the closing price of today"
   ]
  },
  {
   "cell_type": "code",
   "execution_count": 122,
   "metadata": {},
   "outputs": [
    {
     "name": "stdout",
     "output_type": "stream",
     "text": [
      "for training :\n"
     ]
    },
    {
     "data": {
      "text/html": [
       "<div>\n",
       "<style scoped>\n",
       "    .dataframe tbody tr th:only-of-type {\n",
       "        vertical-align: middle;\n",
       "    }\n",
       "\n",
       "    .dataframe tbody tr th {\n",
       "        vertical-align: top;\n",
       "    }\n",
       "\n",
       "    .dataframe thead th {\n",
       "        text-align: right;\n",
       "    }\n",
       "</style>\n",
       "<table border=\"1\" class=\"dataframe\">\n",
       "  <thead>\n",
       "    <tr style=\"text-align: right;\">\n",
       "      <th></th>\n",
       "      <th>Close</th>\n",
       "      <th>predicted_price</th>\n",
       "      <th>normal_return</th>\n",
       "      <th>log_return</th>\n",
       "      <th>cumulative_return</th>\n",
       "      <th>position</th>\n",
       "      <th>strategy_return</th>\n",
       "      <th>cumulative_strategy_return</th>\n",
       "    </tr>\n",
       "    <tr>\n",
       "      <th>Date</th>\n",
       "      <th></th>\n",
       "      <th></th>\n",
       "      <th></th>\n",
       "      <th></th>\n",
       "      <th></th>\n",
       "      <th></th>\n",
       "      <th></th>\n",
       "      <th></th>\n",
       "    </tr>\n",
       "  </thead>\n",
       "  <tbody>\n",
       "    <tr>\n",
       "      <th>2019-12-23</th>\n",
       "      <td>88.230003</td>\n",
       "      <td>88.206825</td>\n",
       "      <td>-0.002600</td>\n",
       "      <td>-0.002603</td>\n",
       "      <td>3.166906</td>\n",
       "      <td>-1</td>\n",
       "      <td>0.002603</td>\n",
       "      <td>4.065858</td>\n",
       "    </tr>\n",
       "    <tr>\n",
       "      <th>2019-12-24</th>\n",
       "      <td>88.519997</td>\n",
       "      <td>88.632029</td>\n",
       "      <td>0.003287</td>\n",
       "      <td>0.003281</td>\n",
       "      <td>3.177315</td>\n",
       "      <td>1</td>\n",
       "      <td>-0.003281</td>\n",
       "      <td>4.052538</td>\n",
       "    </tr>\n",
       "    <tr>\n",
       "      <th>2019-12-26</th>\n",
       "      <td>88.080002</td>\n",
       "      <td>88.625024</td>\n",
       "      <td>-0.004971</td>\n",
       "      <td>-0.004983</td>\n",
       "      <td>3.161522</td>\n",
       "      <td>1</td>\n",
       "      <td>-0.004983</td>\n",
       "      <td>4.032395</td>\n",
       "    </tr>\n",
       "    <tr>\n",
       "      <th>2019-12-27</th>\n",
       "      <td>88.129997</td>\n",
       "      <td>88.824046</td>\n",
       "      <td>0.000568</td>\n",
       "      <td>0.000567</td>\n",
       "      <td>3.163316</td>\n",
       "      <td>1</td>\n",
       "      <td>0.000567</td>\n",
       "      <td>4.034684</td>\n",
       "    </tr>\n",
       "    <tr>\n",
       "      <th>2019-12-30</th>\n",
       "      <td>87.440002</td>\n",
       "      <td>88.991916</td>\n",
       "      <td>-0.007829</td>\n",
       "      <td>-0.007860</td>\n",
       "      <td>3.138550</td>\n",
       "      <td>1</td>\n",
       "      <td>-0.007860</td>\n",
       "      <td>4.003095</td>\n",
       "    </tr>\n",
       "  </tbody>\n",
       "</table>\n",
       "</div>"
      ],
      "text/plain": [
       "                Close  predicted_price  normal_return  log_return  \\\n",
       "Date                                                                \n",
       "2019-12-23  88.230003        88.206825      -0.002600   -0.002603   \n",
       "2019-12-24  88.519997        88.632029       0.003287    0.003281   \n",
       "2019-12-26  88.080002        88.625024      -0.004971   -0.004983   \n",
       "2019-12-27  88.129997        88.824046       0.000568    0.000567   \n",
       "2019-12-30  87.440002        88.991916      -0.007829   -0.007860   \n",
       "\n",
       "            cumulative_return  position  strategy_return  \\\n",
       "Date                                                       \n",
       "2019-12-23           3.166906        -1         0.002603   \n",
       "2019-12-24           3.177315         1        -0.003281   \n",
       "2019-12-26           3.161522         1        -0.004983   \n",
       "2019-12-27           3.163316         1         0.000567   \n",
       "2019-12-30           3.138550         1        -0.007860   \n",
       "\n",
       "            cumulative_strategy_return  \n",
       "Date                                    \n",
       "2019-12-23                    4.065858  \n",
       "2019-12-24                    4.052538  \n",
       "2019-12-26                    4.032395  \n",
       "2019-12-27                    4.034684  \n",
       "2019-12-30                    4.003095  "
      ]
     },
     "metadata": {},
     "output_type": "display_data"
    },
    {
     "name": "stdout",
     "output_type": "stream",
     "text": [
      "for testing :\n"
     ]
    },
    {
     "data": {
      "text/html": [
       "<div>\n",
       "<style scoped>\n",
       "    .dataframe tbody tr th:only-of-type {\n",
       "        vertical-align: middle;\n",
       "    }\n",
       "\n",
       "    .dataframe tbody tr th {\n",
       "        vertical-align: top;\n",
       "    }\n",
       "\n",
       "    .dataframe thead th {\n",
       "        text-align: right;\n",
       "    }\n",
       "</style>\n",
       "<table border=\"1\" class=\"dataframe\">\n",
       "  <thead>\n",
       "    <tr style=\"text-align: right;\">\n",
       "      <th></th>\n",
       "      <th>Close</th>\n",
       "      <th>predicted_price</th>\n",
       "      <th>normal_return</th>\n",
       "      <th>log_return</th>\n",
       "      <th>cumulative_return</th>\n",
       "      <th>position</th>\n",
       "      <th>strategy_return</th>\n",
       "      <th>cumulative_strategy_return</th>\n",
       "    </tr>\n",
       "    <tr>\n",
       "      <th>Date</th>\n",
       "      <th></th>\n",
       "      <th></th>\n",
       "      <th></th>\n",
       "      <th></th>\n",
       "      <th></th>\n",
       "      <th></th>\n",
       "      <th></th>\n",
       "      <th></th>\n",
       "    </tr>\n",
       "  </thead>\n",
       "  <tbody>\n",
       "    <tr>\n",
       "      <th>2022-12-23</th>\n",
       "      <td>98.269997</td>\n",
       "      <td>98.909798</td>\n",
       "      <td>0.005217</td>\n",
       "      <td>0.005203</td>\n",
       "      <td>1.117721</td>\n",
       "      <td>1</td>\n",
       "      <td>0.005203</td>\n",
       "      <td>1.592417</td>\n",
       "    </tr>\n",
       "    <tr>\n",
       "      <th>2022-12-27</th>\n",
       "      <td>99.199997</td>\n",
       "      <td>98.525787</td>\n",
       "      <td>0.009464</td>\n",
       "      <td>0.009419</td>\n",
       "      <td>1.128298</td>\n",
       "      <td>-1</td>\n",
       "      <td>0.009419</td>\n",
       "      <td>1.607487</td>\n",
       "    </tr>\n",
       "    <tr>\n",
       "      <th>2022-12-28</th>\n",
       "      <td>98.599998</td>\n",
       "      <td>98.857334</td>\n",
       "      <td>-0.006048</td>\n",
       "      <td>-0.006067</td>\n",
       "      <td>1.121474</td>\n",
       "      <td>1</td>\n",
       "      <td>0.006067</td>\n",
       "      <td>1.617269</td>\n",
       "    </tr>\n",
       "    <tr>\n",
       "      <th>2022-12-29</th>\n",
       "      <td>99.769997</td>\n",
       "      <td>99.148055</td>\n",
       "      <td>0.011866</td>\n",
       "      <td>0.011796</td>\n",
       "      <td>1.134782</td>\n",
       "      <td>-1</td>\n",
       "      <td>0.011796</td>\n",
       "      <td>1.636459</td>\n",
       "    </tr>\n",
       "    <tr>\n",
       "      <th>2022-12-30</th>\n",
       "      <td>99.199997</td>\n",
       "      <td>99.095950</td>\n",
       "      <td>-0.005713</td>\n",
       "      <td>-0.005730</td>\n",
       "      <td>1.128298</td>\n",
       "      <td>-1</td>\n",
       "      <td>0.005730</td>\n",
       "      <td>1.645862</td>\n",
       "    </tr>\n",
       "  </tbody>\n",
       "</table>\n",
       "</div>"
      ],
      "text/plain": [
       "                Close  predicted_price  normal_return  log_return  \\\n",
       "Date                                                                \n",
       "2022-12-23  98.269997        98.909798       0.005217    0.005203   \n",
       "2022-12-27  99.199997        98.525787       0.009464    0.009419   \n",
       "2022-12-28  98.599998        98.857334      -0.006048   -0.006067   \n",
       "2022-12-29  99.769997        99.148055       0.011866    0.011796   \n",
       "2022-12-30  99.199997        99.095950      -0.005713   -0.005730   \n",
       "\n",
       "            cumulative_return  position  strategy_return  \\\n",
       "Date                                                       \n",
       "2022-12-23           1.117721         1         0.005203   \n",
       "2022-12-27           1.128298        -1         0.009419   \n",
       "2022-12-28           1.121474         1         0.006067   \n",
       "2022-12-29           1.134782        -1         0.011796   \n",
       "2022-12-30           1.128298        -1         0.005730   \n",
       "\n",
       "            cumulative_strategy_return  \n",
       "Date                                    \n",
       "2022-12-23                    1.592417  \n",
       "2022-12-27                    1.607487  \n",
       "2022-12-28                    1.617269  \n",
       "2022-12-29                    1.636459  \n",
       "2022-12-30                    1.645862  "
      ]
     },
     "metadata": {},
     "output_type": "display_data"
    }
   ],
   "source": [
    "# 9.6.1 create function for strategy return\n",
    "\n",
    "def naive_strategy(df):\n",
    "    df['position'] = np.nan\n",
    "    df['position'] = np.where(df['predicted_price'] > df['Close'], 1, -1)\n",
    "    df['strategy_return'] = df['position'].shift(1) * df['log_return']\n",
    "    df['cumulative_strategy_return'] = df['strategy_return'].cumsum().apply(np.exp)\n",
    "    return df\n",
    "\n",
    "training_strategy = naive_strategy(training_strategy)\n",
    "testing_strategy = naive_strategy(testing_strategy)\n",
    "\n",
    "print('for training :')\n",
    "display(training_strategy.tail())\n",
    "\n",
    "print('for testing :')\n",
    "display(testing_strategy.tail())"
   ]
  },
  {
   "cell_type": "code",
   "execution_count": 127,
   "metadata": {},
   "outputs": [
    {
     "data": {
      "image/png": "[encoded data removed]",
      "text/plain": [
       "<Figure size 1200x600 with 1 Axes>"
      ]
     },
     "metadata": {},
     "output_type": "display_data"
    },
    {
     "data": {
      "image/png": "[encoded data removed]",
      "text/plain": [
       "<Figure size 1200x600 with 1 Axes>"
      ]
     },
     "metadata": {},
     "output_type": "display_data"
    }
   ],
   "source": [
    "# 9.6.2) visualize the result\n",
    "\n",
    "training_strategy[['cumulative_return','cumulative_strategy_return']].plot(figsize = (12,6))\n",
    "plt.title('Strategy return for training dataset')\n",
    "plt.show()\n",
    "testing_strategy[['cumulative_return','cumulative_strategy_return']].plot(figsize = (12,6))\n",
    "plt.title('Strategy return for testing dataset')\n",
    "plt.show()"
   ]
  },
  {
   "cell_type": "code",
   "execution_count": 134,
   "metadata": {},
   "outputs": [
    {
     "name": "stdout",
     "output_type": "stream",
     "text": [
      "For training set :\n",
      "CAGR of buy and hold from 2013 to end of 2019 is 0.12141\n",
      "CAGR of our strategy from 2013 to end of 2019 is 0.14904\n",
      " \n",
      "For testing set :\n",
      "CAGR of buy and hold from 2020 to end of 2022 is 0.01052\n",
      "CAGR of our strategy from 2020 to end of 2022 is 0.04941\n"
     ]
    }
   ],
   "source": [
    "# 9.6.3) calculate CAGR (Compound annual growth rate)\n",
    "\n",
    "days = (starbuck_fin.index[-1] - starbuck_fin.index[0]).days\n",
    "cagr_BH_train = (((training_strategy['cumulative_return'][-1]/ training_strategy['cumulative_return'][1]))**(365 / days))-1\n",
    "cagr_ML_train = (((training_strategy['cumulative_strategy_return'][-1]/ training_strategy['cumulative_strategy_return'][1]))**(365 / days))-1\n",
    "cagr_BH_test = (((testing_strategy['cumulative_return'][-1]/ testing_strategy['cumulative_return'][1]))**(365 / days))-1\n",
    "cagr_ML_test = (((testing_strategy['cumulative_strategy_return'][-1]/ testing_strategy['cumulative_strategy_return'][1]))**(365 / days))-1\n",
    "\n",
    "print('For training set :')\n",
    "print('CAGR of buy and hold from 2013 to end of 2019 is {:.5f}'.format(cagr_BH_train))\n",
    "print('CAGR of our strategy from 2013 to end of 2019 is {:.5f}'.format(cagr_ML_train))\n",
    "print(' ')\n",
    "print('For testing set :')\n",
    "print('CAGR of buy and hold from 2020 to end of 2022 is {:.5f}'.format(cagr_BH_test))\n",
    "print('CAGR of our strategy from 2020 to end of 2022 is {:.5f}'.format(cagr_ML_test))"
   ]
  },
  {
   "cell_type": "code",
   "execution_count": null,
   "metadata": {},
   "outputs": [],
   "source": []
  }
 ],
 "metadata": {
  "kernelspec": {
   "display_name": "Python 3",
   "language": "python",
   "name": "python3"
  },
  "language_info": {
   "codemirror_mode": {
    "name": "ipython",
    "version": 3
   },
   "file_extension": ".py",
   "mimetype": "text/x-python",
   "name": "python",
   "nbconvert_exporter": "python",
   "pygments_lexer": "ipython3",
   "version": "3.11.3"
  }
 },
 "nbformat": 4,
 "nbformat_minor": 2
}
